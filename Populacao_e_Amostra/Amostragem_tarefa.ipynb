{
  "nbformat": 4,
  "nbformat_minor": 0,
  "metadata": {
    "colab": {
      "provenance": [],
      "collapsed_sections": [
        "RrDiirdZ9_m5",
        "LuNZ29C3A8nc",
        "PNtASp3qI4mL"
      ],
      "include_colab_link": true
    },
    "kernelspec": {
      "name": "python3",
      "display_name": "Python 3"
    }
  },
  "cells": [
    {
      "cell_type": "markdown",
      "metadata": {
        "id": "view-in-github",
        "colab_type": "text"
      },
      "source": [
        "<a href=\"https://colab.research.google.com/github/OseiasBeu/EstatisticaParaCienciadeDadoseMachineLearning/blob/main/Populacao_e_Amostra/Amostragem_tarefa.ipynb\" target=\"_parent\"><img src=\"https://colab.research.google.com/assets/colab-badge.svg\" alt=\"Open In Colab\"/></a>"
      ]
    },
    {
      "cell_type": "markdown",
      "metadata": {
        "id": "bnzPmx8P52UF"
      },
      "source": [
        "# Amostragem"
      ]
    },
    {
      "cell_type": "markdown",
      "metadata": {
        "id": "DTxzWPl_Vel4"
      },
      "source": [
        "## Carregamento da base de dados"
      ]
    },
    {
      "cell_type": "code",
      "metadata": {
        "id": "Sz394_Ya5tsR"
      },
      "source": [
        "import pandas as pd\n",
        "import random\n",
        "import numpy as np"
      ],
      "execution_count": 1,
      "outputs": []
    },
    {
      "cell_type": "code",
      "metadata": {
        "id": "g6ufdhZ-57UD"
      },
      "source": [
        "dataset = pd.read_csv('https://raw.githubusercontent.com/OseiasBeu/EstatisticaParaCienciadeDadoseMachineLearning/main/Bases%20de%20dados/credit_data.csv')"
      ],
      "execution_count": 2,
      "outputs": []
    },
    {
      "cell_type": "code",
      "metadata": {
        "id": "jemytT0Z6KIm",
        "colab": {
          "base_uri": "https://localhost:8080/"
        },
        "outputId": "aaf37bc0-c815-4693-d998-0dba5b24a884"
      },
      "source": [
        "dataset.shape"
      ],
      "execution_count": 3,
      "outputs": [
        {
          "output_type": "execute_result",
          "data": {
            "text/plain": [
              "(2000, 5)"
            ]
          },
          "metadata": {},
          "execution_count": 3
        }
      ]
    },
    {
      "cell_type": "code",
      "metadata": {
        "id": "WMaeoEfa6Ppq",
        "colab": {
          "base_uri": "https://localhost:8080/",
          "height": 206
        },
        "outputId": "42e2ea7a-3d01-4d4a-e9bc-b077a8c6f508"
      },
      "source": [
        "dataset.head()"
      ],
      "execution_count": 4,
      "outputs": [
        {
          "output_type": "execute_result",
          "data": {
            "text/plain": [
              "   i#clientid        income        age         loan  c#default\n",
              "0           1  66155.925095  59.017015  8106.532131          0\n",
              "1           2  34415.153966  48.117153  6564.745018          0\n",
              "2           3  57317.170063  63.108049  8020.953296          0\n",
              "3           4  42709.534201  45.751972  6103.642260          0\n",
              "4           5  66952.688845  18.584336  8770.099235          1"
            ],
            "text/html": [
              "\n",
              "  <div id=\"df-ced8119a-1c44-4491-b03a-af93aa05b2b2\">\n",
              "    <div class=\"colab-df-container\">\n",
              "      <div>\n",
              "<style scoped>\n",
              "    .dataframe tbody tr th:only-of-type {\n",
              "        vertical-align: middle;\n",
              "    }\n",
              "\n",
              "    .dataframe tbody tr th {\n",
              "        vertical-align: top;\n",
              "    }\n",
              "\n",
              "    .dataframe thead th {\n",
              "        text-align: right;\n",
              "    }\n",
              "</style>\n",
              "<table border=\"1\" class=\"dataframe\">\n",
              "  <thead>\n",
              "    <tr style=\"text-align: right;\">\n",
              "      <th></th>\n",
              "      <th>i#clientid</th>\n",
              "      <th>income</th>\n",
              "      <th>age</th>\n",
              "      <th>loan</th>\n",
              "      <th>c#default</th>\n",
              "    </tr>\n",
              "  </thead>\n",
              "  <tbody>\n",
              "    <tr>\n",
              "      <th>0</th>\n",
              "      <td>1</td>\n",
              "      <td>66155.925095</td>\n",
              "      <td>59.017015</td>\n",
              "      <td>8106.532131</td>\n",
              "      <td>0</td>\n",
              "    </tr>\n",
              "    <tr>\n",
              "      <th>1</th>\n",
              "      <td>2</td>\n",
              "      <td>34415.153966</td>\n",
              "      <td>48.117153</td>\n",
              "      <td>6564.745018</td>\n",
              "      <td>0</td>\n",
              "    </tr>\n",
              "    <tr>\n",
              "      <th>2</th>\n",
              "      <td>3</td>\n",
              "      <td>57317.170063</td>\n",
              "      <td>63.108049</td>\n",
              "      <td>8020.953296</td>\n",
              "      <td>0</td>\n",
              "    </tr>\n",
              "    <tr>\n",
              "      <th>3</th>\n",
              "      <td>4</td>\n",
              "      <td>42709.534201</td>\n",
              "      <td>45.751972</td>\n",
              "      <td>6103.642260</td>\n",
              "      <td>0</td>\n",
              "    </tr>\n",
              "    <tr>\n",
              "      <th>4</th>\n",
              "      <td>5</td>\n",
              "      <td>66952.688845</td>\n",
              "      <td>18.584336</td>\n",
              "      <td>8770.099235</td>\n",
              "      <td>1</td>\n",
              "    </tr>\n",
              "  </tbody>\n",
              "</table>\n",
              "</div>\n",
              "      <button class=\"colab-df-convert\" onclick=\"convertToInteractive('df-ced8119a-1c44-4491-b03a-af93aa05b2b2')\"\n",
              "              title=\"Convert this dataframe to an interactive table.\"\n",
              "              style=\"display:none;\">\n",
              "        \n",
              "  <svg xmlns=\"http://www.w3.org/2000/svg\" height=\"24px\"viewBox=\"0 0 24 24\"\n",
              "       width=\"24px\">\n",
              "    <path d=\"M0 0h24v24H0V0z\" fill=\"none\"/>\n",
              "    <path d=\"M18.56 5.44l.94 2.06.94-2.06 2.06-.94-2.06-.94-.94-2.06-.94 2.06-2.06.94zm-11 1L8.5 8.5l.94-2.06 2.06-.94-2.06-.94L8.5 2.5l-.94 2.06-2.06.94zm10 10l.94 2.06.94-2.06 2.06-.94-2.06-.94-.94-2.06-.94 2.06-2.06.94z\"/><path d=\"M17.41 7.96l-1.37-1.37c-.4-.4-.92-.59-1.43-.59-.52 0-1.04.2-1.43.59L10.3 9.45l-7.72 7.72c-.78.78-.78 2.05 0 2.83L4 21.41c.39.39.9.59 1.41.59.51 0 1.02-.2 1.41-.59l7.78-7.78 2.81-2.81c.8-.78.8-2.07 0-2.86zM5.41 20L4 18.59l7.72-7.72 1.47 1.35L5.41 20z\"/>\n",
              "  </svg>\n",
              "      </button>\n",
              "      \n",
              "  <style>\n",
              "    .colab-df-container {\n",
              "      display:flex;\n",
              "      flex-wrap:wrap;\n",
              "      gap: 12px;\n",
              "    }\n",
              "\n",
              "    .colab-df-convert {\n",
              "      background-color: #E8F0FE;\n",
              "      border: none;\n",
              "      border-radius: 50%;\n",
              "      cursor: pointer;\n",
              "      display: none;\n",
              "      fill: #1967D2;\n",
              "      height: 32px;\n",
              "      padding: 0 0 0 0;\n",
              "      width: 32px;\n",
              "    }\n",
              "\n",
              "    .colab-df-convert:hover {\n",
              "      background-color: #E2EBFA;\n",
              "      box-shadow: 0px 1px 2px rgba(60, 64, 67, 0.3), 0px 1px 3px 1px rgba(60, 64, 67, 0.15);\n",
              "      fill: #174EA6;\n",
              "    }\n",
              "\n",
              "    [theme=dark] .colab-df-convert {\n",
              "      background-color: #3B4455;\n",
              "      fill: #D2E3FC;\n",
              "    }\n",
              "\n",
              "    [theme=dark] .colab-df-convert:hover {\n",
              "      background-color: #434B5C;\n",
              "      box-shadow: 0px 1px 3px 1px rgba(0, 0, 0, 0.15);\n",
              "      filter: drop-shadow(0px 1px 2px rgba(0, 0, 0, 0.3));\n",
              "      fill: #FFFFFF;\n",
              "    }\n",
              "  </style>\n",
              "\n",
              "      <script>\n",
              "        const buttonEl =\n",
              "          document.querySelector('#df-ced8119a-1c44-4491-b03a-af93aa05b2b2 button.colab-df-convert');\n",
              "        buttonEl.style.display =\n",
              "          google.colab.kernel.accessAllowed ? 'block' : 'none';\n",
              "\n",
              "        async function convertToInteractive(key) {\n",
              "          const element = document.querySelector('#df-ced8119a-1c44-4491-b03a-af93aa05b2b2');\n",
              "          const dataTable =\n",
              "            await google.colab.kernel.invokeFunction('convertToInteractive',\n",
              "                                                     [key], {});\n",
              "          if (!dataTable) return;\n",
              "\n",
              "          const docLinkHtml = 'Like what you see? Visit the ' +\n",
              "            '<a target=\"_blank\" href=https://colab.research.google.com/notebooks/data_table.ipynb>data table notebook</a>'\n",
              "            + ' to learn more about interactive tables.';\n",
              "          element.innerHTML = '';\n",
              "          dataTable['output_type'] = 'display_data';\n",
              "          await google.colab.output.renderOutput(dataTable, element);\n",
              "          const docLink = document.createElement('div');\n",
              "          docLink.innerHTML = docLinkHtml;\n",
              "          element.appendChild(docLink);\n",
              "        }\n",
              "      </script>\n",
              "    </div>\n",
              "  </div>\n",
              "  "
            ]
          },
          "metadata": {},
          "execution_count": 4
        }
      ]
    },
    {
      "cell_type": "code",
      "metadata": {
        "id": "PGydX_by6UUM",
        "colab": {
          "base_uri": "https://localhost:8080/",
          "height": 206
        },
        "outputId": "346214b0-d8b0-4356-faba-dc7405abf22b"
      },
      "source": [
        "dataset.tail()"
      ],
      "execution_count": 5,
      "outputs": [
        {
          "output_type": "execute_result",
          "data": {
            "text/plain": [
              "      i#clientid        income        age         loan  c#default\n",
              "1995        1996  59221.044874  48.518179  1926.729397          0\n",
              "1996        1997  69516.127573  23.162104  3503.176156          0\n",
              "1997        1998  44311.449262  28.017167  5522.786693          1\n",
              "1998        1999  43756.056605  63.971796  1622.722598          0\n",
              "1999        2000  69436.579552  56.152617  7378.833599          0"
            ],
            "text/html": [
              "\n",
              "  <div id=\"df-86bb6aae-02d5-4f9e-b606-ebaf24032227\">\n",
              "    <div class=\"colab-df-container\">\n",
              "      <div>\n",
              "<style scoped>\n",
              "    .dataframe tbody tr th:only-of-type {\n",
              "        vertical-align: middle;\n",
              "    }\n",
              "\n",
              "    .dataframe tbody tr th {\n",
              "        vertical-align: top;\n",
              "    }\n",
              "\n",
              "    .dataframe thead th {\n",
              "        text-align: right;\n",
              "    }\n",
              "</style>\n",
              "<table border=\"1\" class=\"dataframe\">\n",
              "  <thead>\n",
              "    <tr style=\"text-align: right;\">\n",
              "      <th></th>\n",
              "      <th>i#clientid</th>\n",
              "      <th>income</th>\n",
              "      <th>age</th>\n",
              "      <th>loan</th>\n",
              "      <th>c#default</th>\n",
              "    </tr>\n",
              "  </thead>\n",
              "  <tbody>\n",
              "    <tr>\n",
              "      <th>1995</th>\n",
              "      <td>1996</td>\n",
              "      <td>59221.044874</td>\n",
              "      <td>48.518179</td>\n",
              "      <td>1926.729397</td>\n",
              "      <td>0</td>\n",
              "    </tr>\n",
              "    <tr>\n",
              "      <th>1996</th>\n",
              "      <td>1997</td>\n",
              "      <td>69516.127573</td>\n",
              "      <td>23.162104</td>\n",
              "      <td>3503.176156</td>\n",
              "      <td>0</td>\n",
              "    </tr>\n",
              "    <tr>\n",
              "      <th>1997</th>\n",
              "      <td>1998</td>\n",
              "      <td>44311.449262</td>\n",
              "      <td>28.017167</td>\n",
              "      <td>5522.786693</td>\n",
              "      <td>1</td>\n",
              "    </tr>\n",
              "    <tr>\n",
              "      <th>1998</th>\n",
              "      <td>1999</td>\n",
              "      <td>43756.056605</td>\n",
              "      <td>63.971796</td>\n",
              "      <td>1622.722598</td>\n",
              "      <td>0</td>\n",
              "    </tr>\n",
              "    <tr>\n",
              "      <th>1999</th>\n",
              "      <td>2000</td>\n",
              "      <td>69436.579552</td>\n",
              "      <td>56.152617</td>\n",
              "      <td>7378.833599</td>\n",
              "      <td>0</td>\n",
              "    </tr>\n",
              "  </tbody>\n",
              "</table>\n",
              "</div>\n",
              "      <button class=\"colab-df-convert\" onclick=\"convertToInteractive('df-86bb6aae-02d5-4f9e-b606-ebaf24032227')\"\n",
              "              title=\"Convert this dataframe to an interactive table.\"\n",
              "              style=\"display:none;\">\n",
              "        \n",
              "  <svg xmlns=\"http://www.w3.org/2000/svg\" height=\"24px\"viewBox=\"0 0 24 24\"\n",
              "       width=\"24px\">\n",
              "    <path d=\"M0 0h24v24H0V0z\" fill=\"none\"/>\n",
              "    <path d=\"M18.56 5.44l.94 2.06.94-2.06 2.06-.94-2.06-.94-.94-2.06-.94 2.06-2.06.94zm-11 1L8.5 8.5l.94-2.06 2.06-.94-2.06-.94L8.5 2.5l-.94 2.06-2.06.94zm10 10l.94 2.06.94-2.06 2.06-.94-2.06-.94-.94-2.06-.94 2.06-2.06.94z\"/><path d=\"M17.41 7.96l-1.37-1.37c-.4-.4-.92-.59-1.43-.59-.52 0-1.04.2-1.43.59L10.3 9.45l-7.72 7.72c-.78.78-.78 2.05 0 2.83L4 21.41c.39.39.9.59 1.41.59.51 0 1.02-.2 1.41-.59l7.78-7.78 2.81-2.81c.8-.78.8-2.07 0-2.86zM5.41 20L4 18.59l7.72-7.72 1.47 1.35L5.41 20z\"/>\n",
              "  </svg>\n",
              "      </button>\n",
              "      \n",
              "  <style>\n",
              "    .colab-df-container {\n",
              "      display:flex;\n",
              "      flex-wrap:wrap;\n",
              "      gap: 12px;\n",
              "    }\n",
              "\n",
              "    .colab-df-convert {\n",
              "      background-color: #E8F0FE;\n",
              "      border: none;\n",
              "      border-radius: 50%;\n",
              "      cursor: pointer;\n",
              "      display: none;\n",
              "      fill: #1967D2;\n",
              "      height: 32px;\n",
              "      padding: 0 0 0 0;\n",
              "      width: 32px;\n",
              "    }\n",
              "\n",
              "    .colab-df-convert:hover {\n",
              "      background-color: #E2EBFA;\n",
              "      box-shadow: 0px 1px 2px rgba(60, 64, 67, 0.3), 0px 1px 3px 1px rgba(60, 64, 67, 0.15);\n",
              "      fill: #174EA6;\n",
              "    }\n",
              "\n",
              "    [theme=dark] .colab-df-convert {\n",
              "      background-color: #3B4455;\n",
              "      fill: #D2E3FC;\n",
              "    }\n",
              "\n",
              "    [theme=dark] .colab-df-convert:hover {\n",
              "      background-color: #434B5C;\n",
              "      box-shadow: 0px 1px 3px 1px rgba(0, 0, 0, 0.15);\n",
              "      filter: drop-shadow(0px 1px 2px rgba(0, 0, 0, 0.3));\n",
              "      fill: #FFFFFF;\n",
              "    }\n",
              "  </style>\n",
              "\n",
              "      <script>\n",
              "        const buttonEl =\n",
              "          document.querySelector('#df-86bb6aae-02d5-4f9e-b606-ebaf24032227 button.colab-df-convert');\n",
              "        buttonEl.style.display =\n",
              "          google.colab.kernel.accessAllowed ? 'block' : 'none';\n",
              "\n",
              "        async function convertToInteractive(key) {\n",
              "          const element = document.querySelector('#df-86bb6aae-02d5-4f9e-b606-ebaf24032227');\n",
              "          const dataTable =\n",
              "            await google.colab.kernel.invokeFunction('convertToInteractive',\n",
              "                                                     [key], {});\n",
              "          if (!dataTable) return;\n",
              "\n",
              "          const docLinkHtml = 'Like what you see? Visit the ' +\n",
              "            '<a target=\"_blank\" href=https://colab.research.google.com/notebooks/data_table.ipynb>data table notebook</a>'\n",
              "            + ' to learn more about interactive tables.';\n",
              "          element.innerHTML = '';\n",
              "          dataTable['output_type'] = 'display_data';\n",
              "          await google.colab.output.renderOutput(dataTable, element);\n",
              "          const docLink = document.createElement('div');\n",
              "          docLink.innerHTML = docLinkHtml;\n",
              "          element.appendChild(docLink);\n",
              "        }\n",
              "      </script>\n",
              "    </div>\n",
              "  </div>\n",
              "  "
            ]
          },
          "metadata": {},
          "execution_count": 5
        }
      ]
    },
    {
      "cell_type": "markdown",
      "metadata": {
        "id": "RrDiirdZ9_m5"
      },
      "source": [
        "## Amostragem aleatória simples"
      ]
    },
    {
      "cell_type": "code",
      "metadata": {
        "id": "wQfv2PH6STsN"
      },
      "source": [
        "def amostragem_aleatoria_simples(dataset, amostras):\n",
        "  return dataset.sample(n = amostras)"
      ],
      "execution_count": 6,
      "outputs": []
    },
    {
      "cell_type": "code",
      "metadata": {
        "id": "F5pOOItOSri8",
        "colab": {
          "base_uri": "https://localhost:8080/"
        },
        "outputId": "17cc74f2-d1a8-45f2-b254-deddcc6dc86b"
      },
      "source": [
        "df_amostra_aleatoria_simples = amostragem_aleatoria_simples(dataset, 1000)\n",
        "df_amostra_aleatoria_simples.shape"
      ],
      "execution_count": 7,
      "outputs": [
        {
          "output_type": "execute_result",
          "data": {
            "text/plain": [
              "(1000, 5)"
            ]
          },
          "metadata": {},
          "execution_count": 7
        }
      ]
    },
    {
      "cell_type": "markdown",
      "metadata": {
        "id": "LuNZ29C3A8nc"
      },
      "source": [
        "## Amostragem sistemática"
      ]
    },
    {
      "cell_type": "code",
      "metadata": {
        "id": "dgF0mzg0DzwC"
      },
      "source": [
        "def amostragem_sistematica(dataset, amostras):\n",
        "  intervalo = len(dataset) // amostras\n",
        "  random.seed(1)\n",
        "  inicio = random.randint(0, intervalo)\n",
        "  indices = np.arange(inicio, len(dataset), step = intervalo)\n",
        "  amostra_sistematica = dataset.iloc[indices]\n",
        "  return amostra_sistematica"
      ],
      "execution_count": 8,
      "outputs": []
    },
    {
      "cell_type": "code",
      "metadata": {
        "id": "QvN77XzIF7J8",
        "colab": {
          "base_uri": "https://localhost:8080/"
        },
        "outputId": "f312cc86-8d30-4e6e-bf2b-be546151bab2"
      },
      "source": [
        "df_amostra_sistematica = amostragem_sistematica(dataset, 1000)\n",
        "df_amostra_sistematica.shape"
      ],
      "execution_count": 9,
      "outputs": [
        {
          "output_type": "execute_result",
          "data": {
            "text/plain": [
              "(1000, 5)"
            ]
          },
          "metadata": {},
          "execution_count": 9
        }
      ]
    },
    {
      "cell_type": "markdown",
      "metadata": {
        "id": "gc3aea8QHqz9"
      },
      "source": [
        "## Amostragem por grupos"
      ]
    },
    {
      "cell_type": "code",
      "metadata": {
        "id": "PITTijltVzkt"
      },
      "source": [
        "def amostragem_agrupamento(dataset, numero_grupos):\n",
        "  intervalo = len(dataset) / numero_grupos\n",
        "  \n",
        "  grupos = []\n",
        "  id_grupo = 0\n",
        "  contagem = 0\n",
        "  for _ in dataset.iterrows():\n",
        "    grupos.append(id_grupo)\n",
        "    contagem += 1\n",
        "    if contagem > intervalo:\n",
        "      contagem = 0\n",
        "      id_grupo += 1\n",
        "\n",
        "  dataset['grupo'] = grupos\n",
        "  grupo_selecionado = random.randint(0, numero_grupos)\n",
        "  return dataset[dataset['grupo'] == grupo_selecionado]"
      ],
      "execution_count": 25,
      "outputs": []
    },
    {
      "cell_type": "code",
      "metadata": {
        "id": "rDjhjWN2W2BL",
        "colab": {
          "base_uri": "https://localhost:8080/"
        },
        "outputId": "02802839-1547-499a-bf80-bf6a9dd337a4"
      },
      "source": [
        "len(dataset) / 2"
      ],
      "execution_count": 26,
      "outputs": [
        {
          "output_type": "execute_result",
          "data": {
            "text/plain": [
              "1000.0"
            ]
          },
          "metadata": {},
          "execution_count": 26
        }
      ]
    },
    {
      "cell_type": "code",
      "metadata": {
        "id": "-R7kRIq4WeoY",
        "colab": {
          "base_uri": "https://localhost:8080/"
        },
        "outputId": "99f031c6-1bfa-4411-c5ba-4a2df67f7df9"
      },
      "source": [
        "df_amostra_agrupamento = amostragem_agrupamento(dataset, 2)\n",
        "df_amostra_agrupamento.shape, df_amostra_agrupamento['grupo'].value_counts()"
      ],
      "execution_count": 27,
      "outputs": [
        {
          "output_type": "execute_result",
          "data": {
            "text/plain": [
              "((999, 6), 1    999\n",
              " Name: grupo, dtype: int64)"
            ]
          },
          "metadata": {},
          "execution_count": 27
        }
      ]
    },
    {
      "cell_type": "markdown",
      "metadata": {
        "id": "PNtASp3qI4mL"
      },
      "source": [
        "## Amostra estratificada"
      ]
    },
    {
      "cell_type": "code",
      "metadata": {
        "id": "qTw7AltLI6WS"
      },
      "source": [
        "from sklearn.model_selection import StratifiedShuffleSplit"
      ],
      "execution_count": 13,
      "outputs": []
    },
    {
      "cell_type": "code",
      "metadata": {
        "id": "8b-rfJrmKI-u",
        "colab": {
          "base_uri": "https://localhost:8080/"
        },
        "outputId": "e9ef04c1-a001-4026-b632-d41897f28c39"
      },
      "source": [
        "dataset['c#default'].value_counts()"
      ],
      "execution_count": 14,
      "outputs": [
        {
          "output_type": "execute_result",
          "data": {
            "text/plain": [
              "0    1717\n",
              "1     283\n",
              "Name: c#default, dtype: int64"
            ]
          },
          "metadata": {},
          "execution_count": 14
        }
      ]
    },
    {
      "cell_type": "code",
      "metadata": {
        "id": "SmwcynvJqwvv"
      },
      "source": [
        "def amostragem_estratificada(dataset, percentual, campo):\n",
        "  split = StratifiedShuffleSplit(test_size = percentual, random_state=1)\n",
        "  for _, y in split.split(dataset, dataset[campo]):\n",
        "    df_y = dataset.iloc[y]\n",
        "  return df_y"
      ],
      "execution_count": 15,
      "outputs": []
    },
    {
      "cell_type": "code",
      "metadata": {
        "id": "CKqxo8mErDec",
        "colab": {
          "base_uri": "https://localhost:8080/"
        },
        "outputId": "382f209b-8442-45d4-f714-23ac4fa31312"
      },
      "source": [
        "df_amostra_estratificada = amostragem_estratificada(dataset, 0.5, 'c#default')\n",
        "df_amostra_estratificada.shape"
      ],
      "execution_count": 16,
      "outputs": [
        {
          "output_type": "execute_result",
          "data": {
            "text/plain": [
              "(1000, 6)"
            ]
          },
          "metadata": {},
          "execution_count": 16
        }
      ]
    },
    {
      "cell_type": "markdown",
      "metadata": {
        "id": "X_zNXG-FQ_Bd"
      },
      "source": [
        "## Amostra de reservatório"
      ]
    },
    {
      "cell_type": "code",
      "metadata": {
        "id": "2n1s5AljTSGi"
      },
      "source": [
        "def amostragem_reservatorio(dataset, amostras):\n",
        "  stream = []\n",
        "  for i in range(len(dataset)):\n",
        "    stream.append(i)\n",
        "  \n",
        "  i = 0\n",
        "  tamanho = len(dataset)\n",
        "\n",
        "  reservatorio = [0] * amostras\n",
        "  for i in range(amostras):\n",
        "    reservatorio[i] = stream[i]\n",
        "\n",
        "  while (i < tamanho):\n",
        "    j = random.randrange(i + 1)\n",
        "    if (j < amostras): \n",
        "      reservatorio[j] = stream[i]\n",
        "    i += 1\n",
        "\n",
        "  return dataset.iloc[reservatorio]"
      ],
      "execution_count": 17,
      "outputs": []
    },
    {
      "cell_type": "code",
      "metadata": {
        "id": "8N6L_4rIYItn",
        "colab": {
          "base_uri": "https://localhost:8080/"
        },
        "outputId": "74d5f1a0-af75-4200-c968-a5bca0a0fac7"
      },
      "source": [
        "df_amostragem_reservatorio = amostragem_reservatorio(dataset, 1000)\n",
        "df_amostragem_reservatorio.shape"
      ],
      "execution_count": 18,
      "outputs": [
        {
          "output_type": "execute_result",
          "data": {
            "text/plain": [
              "(1000, 6)"
            ]
          },
          "metadata": {},
          "execution_count": 18
        }
      ]
    },
    {
      "cell_type": "markdown",
      "metadata": {
        "id": "7ExAOFBUqJmW"
      },
      "source": [
        "## Comparativo dos resultados"
      ]
    },
    {
      "cell_type": "code",
      "metadata": {
        "id": "WoMWm0XNqMDp",
        "colab": {
          "base_uri": "https://localhost:8080/"
        },
        "outputId": "79010ab3-0e50-4595-9adc-9ddf006fa644"
      },
      "source": [
        "dataset['age'].mean(), dataset['income'].mean(), dataset['loan'].mean()"
      ],
      "execution_count": 19,
      "outputs": [
        {
          "output_type": "execute_result",
          "data": {
            "text/plain": [
              "(40.80755937840458, 45331.600017793244, 4444.369694688258)"
            ]
          },
          "metadata": {},
          "execution_count": 19
        }
      ]
    },
    {
      "cell_type": "code",
      "metadata": {
        "id": "n2EhHBIXqVmR",
        "colab": {
          "base_uri": "https://localhost:8080/"
        },
        "outputId": "3980241b-ac23-4d6c-e960-2a5be4315ef1"
      },
      "source": [
        "df_amostra_aleatoria_simples['age'].mean(), df_amostra_aleatoria_simples['income'].mean(), df_amostra_aleatoria_simples['loan'].mean()"
      ],
      "execution_count": 20,
      "outputs": [
        {
          "output_type": "execute_result",
          "data": {
            "text/plain": [
              "(40.69161777658657, 45221.844472980585, 4407.613316436993)"
            ]
          },
          "metadata": {},
          "execution_count": 20
        }
      ]
    },
    {
      "cell_type": "code",
      "metadata": {
        "id": "8Py0Pu8RqZ_s",
        "colab": {
          "base_uri": "https://localhost:8080/"
        },
        "outputId": "a510a73b-0095-4f9c-f1ef-d21bf99b2bb8"
      },
      "source": [
        "df_amostra_sistematica['age'].mean(), df_amostra_sistematica['income'].mean(), df_amostra_sistematica['loan'].mean()"
      ],
      "execution_count": 21,
      "outputs": [
        {
          "output_type": "execute_result",
          "data": {
            "text/plain": [
              "(40.91117381141754, 45691.49875066942, 4506.78797642633)"
            ]
          },
          "metadata": {},
          "execution_count": 21
        }
      ]
    },
    {
      "cell_type": "code",
      "metadata": {
        "id": "V8o-LGAtqeTw",
        "colab": {
          "base_uri": "https://localhost:8080/"
        },
        "outputId": "35e35807-677d-4759-a9a7-450e7f27a469"
      },
      "source": [
        "df_amostra_agrupamento['age'].mean(), df_amostra_agrupamento['income'].mean(), df_amostra_agrupamento['loan'].mean()"
      ],
      "execution_count": 28,
      "outputs": [
        {
          "output_type": "execute_result",
          "data": {
            "text/plain": [
              "(40.57213154439213, 45817.42144791312, 4498.686420559128)"
            ]
          },
          "metadata": {},
          "execution_count": 28
        }
      ]
    },
    {
      "cell_type": "code",
      "metadata": {
        "id": "VmUO3NGnqlDN",
        "colab": {
          "base_uri": "https://localhost:8080/"
        },
        "outputId": "8c496fe8-b79f-43cd-f5c5-c581828c8d3f"
      },
      "source": [
        "df_amostra_estratificada['age'].mean(), df_amostra_estratificada['income'].mean(), df_amostra_estratificada['loan'].mean()"
      ],
      "execution_count": 23,
      "outputs": [
        {
          "output_type": "execute_result",
          "data": {
            "text/plain": [
              "(40.53363707173919, 45101.366750267334, 4423.7446510941945)"
            ]
          },
          "metadata": {},
          "execution_count": 23
        }
      ]
    },
    {
      "cell_type": "code",
      "metadata": {
        "id": "F3u0XNfJqpGH",
        "colab": {
          "base_uri": "https://localhost:8080/"
        },
        "outputId": "53b8370c-d39f-4624-eaff-40a0e5d1cbe0"
      },
      "source": [
        "df_amostragem_reservatorio['age'].mean(), df_amostragem_reservatorio['income'].mean(), df_amostragem_reservatorio['loan'].mean()"
      ],
      "execution_count": 24,
      "outputs": [
        {
          "output_type": "execute_result",
          "data": {
            "text/plain": [
              "(40.66004999299844, 45081.4242972876, 4429.476055841933)"
            ]
          },
          "metadata": {},
          "execution_count": 24
        }
      ]
    }
  ]
}