{
  "nbformat": 4,
  "nbformat_minor": 0,
  "metadata": {
    "colab": {
      "provenance": [],
      "include_colab_link": true
    },
    "kernelspec": {
      "name": "python3",
      "display_name": "Python 3"
    }
  },
  "cells": [
    {
      "cell_type": "markdown",
      "metadata": {
        "id": "view-in-github",
        "colab_type": "text"
      },
      "source": [
        "<a href=\"https://colab.research.google.com/github/OseiasBeu/EstatisticaParaCienciadeDadoseMachineLearning/blob/main/Populacao_e_Amostra/Dados_desbalanceados.ipynb\" target=\"_parent\"><img src=\"https://colab.research.google.com/assets/colab-badge.svg\" alt=\"Open In Colab\"/></a>"
      ]
    },
    {
      "cell_type": "markdown",
      "metadata": {
        "id": "bnzPmx8P52UF"
      },
      "source": [
        "# Classificação com dados desbalanceados"
      ]
    },
    {
      "cell_type": "markdown",
      "metadata": {
        "id": "DTxzWPl_Vel4"
      },
      "source": [
        "## Carregamento da base de dados"
      ]
    },
    {
      "cell_type": "code",
      "metadata": {
        "id": "NudHlvMHBTlS"
      },
      "source": [
        "import pandas as pd\n",
        "import random\n",
        "import numpy as np"
      ],
      "execution_count": 6,
      "outputs": []
    },
    {
      "cell_type": "code",
      "metadata": {
        "colab": {
          "base_uri": "https://localhost:8080/"
        },
        "id": "UIE0VCD6ZilF",
        "outputId": "ae1ad03a-dbc6-47f5-cd64-1b1bc747ff84"
      },
      "source": [
        "from google.colab import drive\n",
        "drive.mount('/content/drive')"
      ],
      "execution_count": 7,
      "outputs": [
        {
          "output_type": "stream",
          "name": "stdout",
          "text": [
            "Drive already mounted at /content/drive; to attempt to forcibly remount, call drive.mount(\"/content/drive\", force_remount=True).\n"
          ]
        }
      ]
    },
    {
      "cell_type": "code",
      "metadata": {
        "id": "gqH_zFo9Bbih"
      },
      "source": [
        "dataset = pd.read_csv('https://raw.githubusercontent.com/OseiasBeu/EstatisticaParaCienciadeDadoseMachineLearning/main/Bases%20de%20dados/credit_data.csv')"
      ],
      "execution_count": 8,
      "outputs": []
    },
    {
      "cell_type": "code",
      "metadata": {
        "id": "8iqh9PC7Bj-B",
        "colab": {
          "base_uri": "https://localhost:8080/"
        },
        "outputId": "e527cae6-cfed-4b65-e73f-658539fe9bfe"
      },
      "source": [
        "dataset.shape"
      ],
      "execution_count": 9,
      "outputs": [
        {
          "output_type": "execute_result",
          "data": {
            "text/plain": [
              "(2000, 5)"
            ]
          },
          "metadata": {},
          "execution_count": 9
        }
      ]
    },
    {
      "cell_type": "code",
      "metadata": {
        "id": "71gReO7sBnYn",
        "colab": {
          "base_uri": "https://localhost:8080/",
          "height": 206
        },
        "outputId": "2f573fc7-86cf-4738-eba5-45fc177213b6"
      },
      "source": [
        "dataset.head()"
      ],
      "execution_count": 10,
      "outputs": [
        {
          "output_type": "execute_result",
          "data": {
            "text/plain": [
              "   i#clientid        income        age         loan  c#default\n",
              "0           1  66155.925095  59.017015  8106.532131          0\n",
              "1           2  34415.153966  48.117153  6564.745018          0\n",
              "2           3  57317.170063  63.108049  8020.953296          0\n",
              "3           4  42709.534201  45.751972  6103.642260          0\n",
              "4           5  66952.688845  18.584336  8770.099235          1"
            ],
            "text/html": [
              "\n",
              "  <div id=\"df-05fbb0d2-eda5-4c79-a363-742dbeb891d2\">\n",
              "    <div class=\"colab-df-container\">\n",
              "      <div>\n",
              "<style scoped>\n",
              "    .dataframe tbody tr th:only-of-type {\n",
              "        vertical-align: middle;\n",
              "    }\n",
              "\n",
              "    .dataframe tbody tr th {\n",
              "        vertical-align: top;\n",
              "    }\n",
              "\n",
              "    .dataframe thead th {\n",
              "        text-align: right;\n",
              "    }\n",
              "</style>\n",
              "<table border=\"1\" class=\"dataframe\">\n",
              "  <thead>\n",
              "    <tr style=\"text-align: right;\">\n",
              "      <th></th>\n",
              "      <th>i#clientid</th>\n",
              "      <th>income</th>\n",
              "      <th>age</th>\n",
              "      <th>loan</th>\n",
              "      <th>c#default</th>\n",
              "    </tr>\n",
              "  </thead>\n",
              "  <tbody>\n",
              "    <tr>\n",
              "      <th>0</th>\n",
              "      <td>1</td>\n",
              "      <td>66155.925095</td>\n",
              "      <td>59.017015</td>\n",
              "      <td>8106.532131</td>\n",
              "      <td>0</td>\n",
              "    </tr>\n",
              "    <tr>\n",
              "      <th>1</th>\n",
              "      <td>2</td>\n",
              "      <td>34415.153966</td>\n",
              "      <td>48.117153</td>\n",
              "      <td>6564.745018</td>\n",
              "      <td>0</td>\n",
              "    </tr>\n",
              "    <tr>\n",
              "      <th>2</th>\n",
              "      <td>3</td>\n",
              "      <td>57317.170063</td>\n",
              "      <td>63.108049</td>\n",
              "      <td>8020.953296</td>\n",
              "      <td>0</td>\n",
              "    </tr>\n",
              "    <tr>\n",
              "      <th>3</th>\n",
              "      <td>4</td>\n",
              "      <td>42709.534201</td>\n",
              "      <td>45.751972</td>\n",
              "      <td>6103.642260</td>\n",
              "      <td>0</td>\n",
              "    </tr>\n",
              "    <tr>\n",
              "      <th>4</th>\n",
              "      <td>5</td>\n",
              "      <td>66952.688845</td>\n",
              "      <td>18.584336</td>\n",
              "      <td>8770.099235</td>\n",
              "      <td>1</td>\n",
              "    </tr>\n",
              "  </tbody>\n",
              "</table>\n",
              "</div>\n",
              "      <button class=\"colab-df-convert\" onclick=\"convertToInteractive('df-05fbb0d2-eda5-4c79-a363-742dbeb891d2')\"\n",
              "              title=\"Convert this dataframe to an interactive table.\"\n",
              "              style=\"display:none;\">\n",
              "        \n",
              "  <svg xmlns=\"http://www.w3.org/2000/svg\" height=\"24px\"viewBox=\"0 0 24 24\"\n",
              "       width=\"24px\">\n",
              "    <path d=\"M0 0h24v24H0V0z\" fill=\"none\"/>\n",
              "    <path d=\"M18.56 5.44l.94 2.06.94-2.06 2.06-.94-2.06-.94-.94-2.06-.94 2.06-2.06.94zm-11 1L8.5 8.5l.94-2.06 2.06-.94-2.06-.94L8.5 2.5l-.94 2.06-2.06.94zm10 10l.94 2.06.94-2.06 2.06-.94-2.06-.94-.94-2.06-.94 2.06-2.06.94z\"/><path d=\"M17.41 7.96l-1.37-1.37c-.4-.4-.92-.59-1.43-.59-.52 0-1.04.2-1.43.59L10.3 9.45l-7.72 7.72c-.78.78-.78 2.05 0 2.83L4 21.41c.39.39.9.59 1.41.59.51 0 1.02-.2 1.41-.59l7.78-7.78 2.81-2.81c.8-.78.8-2.07 0-2.86zM5.41 20L4 18.59l7.72-7.72 1.47 1.35L5.41 20z\"/>\n",
              "  </svg>\n",
              "      </button>\n",
              "      \n",
              "  <style>\n",
              "    .colab-df-container {\n",
              "      display:flex;\n",
              "      flex-wrap:wrap;\n",
              "      gap: 12px;\n",
              "    }\n",
              "\n",
              "    .colab-df-convert {\n",
              "      background-color: #E8F0FE;\n",
              "      border: none;\n",
              "      border-radius: 50%;\n",
              "      cursor: pointer;\n",
              "      display: none;\n",
              "      fill: #1967D2;\n",
              "      height: 32px;\n",
              "      padding: 0 0 0 0;\n",
              "      width: 32px;\n",
              "    }\n",
              "\n",
              "    .colab-df-convert:hover {\n",
              "      background-color: #E2EBFA;\n",
              "      box-shadow: 0px 1px 2px rgba(60, 64, 67, 0.3), 0px 1px 3px 1px rgba(60, 64, 67, 0.15);\n",
              "      fill: #174EA6;\n",
              "    }\n",
              "\n",
              "    [theme=dark] .colab-df-convert {\n",
              "      background-color: #3B4455;\n",
              "      fill: #D2E3FC;\n",
              "    }\n",
              "\n",
              "    [theme=dark] .colab-df-convert:hover {\n",
              "      background-color: #434B5C;\n",
              "      box-shadow: 0px 1px 3px 1px rgba(0, 0, 0, 0.15);\n",
              "      filter: drop-shadow(0px 1px 2px rgba(0, 0, 0, 0.3));\n",
              "      fill: #FFFFFF;\n",
              "    }\n",
              "  </style>\n",
              "\n",
              "      <script>\n",
              "        const buttonEl =\n",
              "          document.querySelector('#df-05fbb0d2-eda5-4c79-a363-742dbeb891d2 button.colab-df-convert');\n",
              "        buttonEl.style.display =\n",
              "          google.colab.kernel.accessAllowed ? 'block' : 'none';\n",
              "\n",
              "        async function convertToInteractive(key) {\n",
              "          const element = document.querySelector('#df-05fbb0d2-eda5-4c79-a363-742dbeb891d2');\n",
              "          const dataTable =\n",
              "            await google.colab.kernel.invokeFunction('convertToInteractive',\n",
              "                                                     [key], {});\n",
              "          if (!dataTable) return;\n",
              "\n",
              "          const docLinkHtml = 'Like what you see? Visit the ' +\n",
              "            '<a target=\"_blank\" href=https://colab.research.google.com/notebooks/data_table.ipynb>data table notebook</a>'\n",
              "            + ' to learn more about interactive tables.';\n",
              "          element.innerHTML = '';\n",
              "          dataTable['output_type'] = 'display_data';\n",
              "          await google.colab.output.renderOutput(dataTable, element);\n",
              "          const docLink = document.createElement('div');\n",
              "          docLink.innerHTML = docLinkHtml;\n",
              "          element.appendChild(docLink);\n",
              "        }\n",
              "      </script>\n",
              "    </div>\n",
              "  </div>\n",
              "  "
            ]
          },
          "metadata": {},
          "execution_count": 10
        }
      ]
    },
    {
      "cell_type": "code",
      "metadata": {
        "id": "GVPKQSk6BwsC",
        "colab": {
          "base_uri": "https://localhost:8080/"
        },
        "outputId": "34af58ba-9194-44df-8fe9-86f765ea2a9a"
      },
      "source": [
        "dataset.dropna(inplace=True)\n",
        "dataset.shape"
      ],
      "execution_count": 11,
      "outputs": [
        {
          "output_type": "execute_result",
          "data": {
            "text/plain": [
              "(1997, 5)"
            ]
          },
          "metadata": {},
          "execution_count": 11
        }
      ]
    },
    {
      "cell_type": "code",
      "metadata": {
        "id": "nvcT491qB-AJ",
        "colab": {
          "base_uri": "https://localhost:8080/",
          "height": 279
        },
        "outputId": "eafd0123-e76d-4542-bf2b-f68b1cc60052"
      },
      "source": [
        "import seaborn as sns\n",
        "sns.countplot(x=dataset['c#default']);"
      ],
      "execution_count": 12,
      "outputs": [
        {
          "output_type": "display_data",
          "data": {
            "text/plain": [
              "<Figure size 432x288 with 1 Axes>"
            ],
            "image/png": "[encoded data removed]"
          },
          "metadata": {
            "needs_background": "light"
          }
        }
      ]
    },
    {
      "cell_type": "code",
      "metadata": {
        "id": "dnnAJQ-lDB9W"
      },
      "source": [
        "X = dataset.iloc[:, 1:4].values"
      ],
      "execution_count": 13,
      "outputs": []
    },
    {
      "cell_type": "code",
      "metadata": {
        "id": "SepOULyLDQCz",
        "colab": {
          "base_uri": "https://localhost:8080/"
        },
        "outputId": "5d5de34e-32fc-4b43-d605-c952fc5fdd3a"
      },
      "source": [
        "X.shape"
      ],
      "execution_count": 14,
      "outputs": [
        {
          "output_type": "execute_result",
          "data": {
            "text/plain": [
              "(1997, 3)"
            ]
          },
          "metadata": {},
          "execution_count": 14
        }
      ]
    },
    {
      "cell_type": "code",
      "metadata": {
        "id": "bhrG8rgDDTdQ",
        "colab": {
          "base_uri": "https://localhost:8080/"
        },
        "outputId": "5b8c758f-160a-45b4-b8dd-028cb440f2f8"
      },
      "source": [
        "X"
      ],
      "execution_count": 15,
      "outputs": [
        {
          "output_type": "execute_result",
          "data": {
            "text/plain": [
              "array([[6.61559251e+04, 5.90170151e+01, 8.10653213e+03],\n",
              "       [3.44151540e+04, 4.81171531e+01, 6.56474502e+03],\n",
              "       [5.73171701e+04, 6.31080495e+01, 8.02095330e+03],\n",
              "       ...,\n",
              "       [4.43114493e+04, 2.80171669e+01, 5.52278669e+03],\n",
              "       [4.37560566e+04, 6.39717958e+01, 1.62272260e+03],\n",
              "       [6.94365796e+04, 5.61526170e+01, 7.37883360e+03]])"
            ]
          },
          "metadata": {},
          "execution_count": 15
        }
      ]
    },
    {
      "cell_type": "code",
      "metadata": {
        "id": "1tZq2ejoDZWk"
      },
      "source": [
        "y = dataset.iloc[:, 4].values"
      ],
      "execution_count": 16,
      "outputs": []
    },
    {
      "cell_type": "code",
      "metadata": {
        "id": "GCKnFpZ8Dgwy",
        "colab": {
          "base_uri": "https://localhost:8080/"
        },
        "outputId": "afda8085-cf77-432d-e7c3-f1fd10dfa92f"
      },
      "source": [
        "y.shape"
      ],
      "execution_count": 17,
      "outputs": [
        {
          "output_type": "execute_result",
          "data": {
            "text/plain": [
              "(1997,)"
            ]
          },
          "metadata": {},
          "execution_count": 17
        }
      ]
    },
    {
      "cell_type": "code",
      "metadata": {
        "id": "5Cx5TE4-Dits",
        "colab": {
          "base_uri": "https://localhost:8080/"
        },
        "outputId": "c90016f5-07c3-4113-a355-33001e434dca"
      },
      "source": [
        "y"
      ],
      "execution_count": 18,
      "outputs": [
        {
          "output_type": "execute_result",
          "data": {
            "text/plain": [
              "array([0, 0, 0, ..., 1, 0, 0])"
            ]
          },
          "metadata": {},
          "execution_count": 18
        }
      ]
    },
    {
      "cell_type": "markdown",
      "metadata": {
        "id": "NFbb9dV1EaLT"
      },
      "source": [
        "## Base de treinamento e teste"
      ]
    },
    {
      "cell_type": "code",
      "metadata": {
        "id": "dpPgFThGD31K"
      },
      "source": [
        "from sklearn.model_selection import train_test_split"
      ],
      "execution_count": 19,
      "outputs": []
    },
    {
      "cell_type": "code",
      "metadata": {
        "id": "1wWkySSkEK-C"
      },
      "source": [
        "X_treinamento, X_teste, y_treinamento, y_teste = train_test_split(X, y, test_size = 0.2, stratify = y)"
      ],
      "execution_count": 20,
      "outputs": []
    },
    {
      "cell_type": "code",
      "metadata": {
        "id": "XPFAJJLSEfvA",
        "colab": {
          "base_uri": "https://localhost:8080/"
        },
        "outputId": "bc44bffc-fbeb-4f4e-fbef-fac82e591c95"
      },
      "source": [
        "X_treinamento.shape, y_treinamento.shape"
      ],
      "execution_count": 21,
      "outputs": [
        {
          "output_type": "execute_result",
          "data": {
            "text/plain": [
              "((1597, 3), (1597,))"
            ]
          },
          "metadata": {},
          "execution_count": 21
        }
      ]
    },
    {
      "cell_type": "code",
      "metadata": {
        "id": "OcybzfVgEn4X",
        "colab": {
          "base_uri": "https://localhost:8080/"
        },
        "outputId": "57bce02c-941e-47cd-fcc3-683bd62c2c92"
      },
      "source": [
        "X_teste.shape, y_teste.shape"
      ],
      "execution_count": 22,
      "outputs": [
        {
          "output_type": "execute_result",
          "data": {
            "text/plain": [
              "((400, 3), (400,))"
            ]
          },
          "metadata": {},
          "execution_count": 22
        }
      ]
    },
    {
      "cell_type": "code",
      "metadata": {
        "id": "de3wr-qNExjP",
        "colab": {
          "base_uri": "https://localhost:8080/"
        },
        "outputId": "f1518b42-987a-4dca-95a0-76d36744bfd8"
      },
      "source": [
        "np.unique(y, return_counts=True)"
      ],
      "execution_count": 23,
      "outputs": [
        {
          "output_type": "execute_result",
          "data": {
            "text/plain": [
              "(array([0, 1]), array([1714,  283]))"
            ]
          },
          "metadata": {},
          "execution_count": 23
        }
      ]
    },
    {
      "cell_type": "code",
      "metadata": {
        "id": "02IABsqmE6Hz",
        "colab": {
          "base_uri": "https://localhost:8080/"
        },
        "outputId": "4cf52fb6-b825-4f1e-bee9-151e9ceb12bf"
      },
      "source": [
        "1714 / len(dataset), 283 / len(dataset)"
      ],
      "execution_count": 24,
      "outputs": [
        {
          "output_type": "execute_result",
          "data": {
            "text/plain": [
              "(0.8582874311467201, 0.14171256885327993)"
            ]
          },
          "metadata": {},
          "execution_count": 24
        }
      ]
    },
    {
      "cell_type": "code",
      "metadata": {
        "id": "UZuSePYMFJUw",
        "colab": {
          "base_uri": "https://localhost:8080/"
        },
        "outputId": "5206a6e8-e3aa-4fdf-ddec-88cf703d6a06"
      },
      "source": [
        "np.unique(y_treinamento, return_counts=True)"
      ],
      "execution_count": 25,
      "outputs": [
        {
          "output_type": "execute_result",
          "data": {
            "text/plain": [
              "(array([0, 1]), array([1371,  226]))"
            ]
          },
          "metadata": {},
          "execution_count": 25
        }
      ]
    },
    {
      "cell_type": "code",
      "metadata": {
        "id": "vdyeXcD8FX4C",
        "colab": {
          "base_uri": "https://localhost:8080/"
        },
        "outputId": "5974c54d-2280-4763-fa37-3197edea6162"
      },
      "source": [
        "226 / len(y_treinamento)"
      ],
      "execution_count": 26,
      "outputs": [
        {
          "output_type": "execute_result",
          "data": {
            "text/plain": [
              "0.14151534126487164"
            ]
          },
          "metadata": {},
          "execution_count": 26
        }
      ]
    },
    {
      "cell_type": "code",
      "metadata": {
        "id": "cfIrILE6FdyZ",
        "colab": {
          "base_uri": "https://localhost:8080/"
        },
        "outputId": "b152f6ab-898b-44fc-e99a-47c99ff4acc4"
      },
      "source": [
        "np.unique(y_teste, return_counts=True)"
      ],
      "execution_count": 27,
      "outputs": [
        {
          "output_type": "execute_result",
          "data": {
            "text/plain": [
              "(array([0, 1]), array([343,  57]))"
            ]
          },
          "metadata": {},
          "execution_count": 27
        }
      ]
    },
    {
      "cell_type": "code",
      "metadata": {
        "id": "gFwlnLf6Fhs_",
        "colab": {
          "base_uri": "https://localhost:8080/"
        },
        "outputId": "f7b5ea02-2245-453f-cb43-e3499420fe54"
      },
      "source": [
        "57 / len(y_teste)"
      ],
      "execution_count": 28,
      "outputs": [
        {
          "output_type": "execute_result",
          "data": {
            "text/plain": [
              "0.1425"
            ]
          },
          "metadata": {},
          "execution_count": 28
        }
      ]
    },
    {
      "cell_type": "markdown",
      "metadata": {
        "id": "G3CipcvgGJ-V"
      },
      "source": [
        "## Classificação com Naïve Bayes"
      ]
    },
    {
      "cell_type": "code",
      "metadata": {
        "id": "RT8GaUDpGFLB"
      },
      "source": [
        "from sklearn.naive_bayes import GaussianNB"
      ],
      "execution_count": 29,
      "outputs": []
    },
    {
      "cell_type": "code",
      "metadata": {
        "id": "Yei4cqyuGLqz",
        "colab": {
          "base_uri": "https://localhost:8080/"
        },
        "outputId": "f53919c1-5a53-451c-99b0-74451a2201cc"
      },
      "source": [
        "modelo = GaussianNB()\n",
        "modelo.fit(X_treinamento, y_treinamento)"
      ],
      "execution_count": 30,
      "outputs": [
        {
          "output_type": "execute_result",
          "data": {
            "text/plain": [
              "GaussianNB()"
            ]
          },
          "metadata": {},
          "execution_count": 30
        }
      ]
    },
    {
      "cell_type": "code",
      "metadata": {
        "id": "mT_rKAXmGZKQ"
      },
      "source": [
        "previsoes = modelo.predict(X_teste)"
      ],
      "execution_count": 31,
      "outputs": []
    },
    {
      "cell_type": "code",
      "metadata": {
        "id": "OWprc3IVGhyW",
        "colab": {
          "base_uri": "https://localhost:8080/"
        },
        "outputId": "3eb97ec9-0713-4e9e-8897-ca40d072f845"
      },
      "source": [
        "previsoes"
      ],
      "execution_count": 32,
      "outputs": [
        {
          "output_type": "execute_result",
          "data": {
            "text/plain": [
              "array([0, 0, 0, 0, 0, 0, 0, 0, 0, 0, 0, 0, 0, 0, 0, 0, 0, 0, 0, 0, 0, 0,\n",
              "       0, 0, 0, 0, 0, 0, 0, 0, 0, 0, 0, 0, 0, 0, 1, 0, 0, 0, 0, 0, 0, 0,\n",
              "       0, 0, 0, 0, 0, 0, 0, 0, 0, 0, 0, 0, 0, 0, 0, 0, 0, 0, 0, 0, 0, 0,\n",
              "       0, 0, 1, 0, 0, 1, 0, 0, 0, 0, 0, 0, 0, 0, 0, 1, 0, 0, 0, 0, 0, 0,\n",
              "       0, 1, 0, 0, 0, 0, 0, 0, 1, 0, 0, 0, 0, 1, 0, 0, 0, 0, 0, 0, 0, 0,\n",
              "       0, 0, 0, 0, 0, 0, 0, 0, 0, 0, 0, 0, 1, 0, 0, 0, 0, 0, 1, 0, 0, 1,\n",
              "       0, 0, 0, 0, 0, 1, 0, 0, 0, 0, 0, 0, 1, 0, 0, 0, 0, 0, 0, 0, 0, 0,\n",
              "       0, 0, 0, 1, 0, 0, 0, 0, 0, 0, 1, 0, 0, 0, 0, 0, 0, 0, 0, 0, 0, 0,\n",
              "       0, 0, 0, 1, 0, 0, 0, 0, 0, 0, 1, 0, 1, 0, 0, 0, 0, 0, 0, 0, 0, 0,\n",
              "       1, 0, 0, 0, 0, 0, 0, 0, 0, 0, 0, 0, 0, 0, 0, 0, 1, 0, 0, 0, 0, 0,\n",
              "       0, 0, 1, 0, 0, 0, 0, 0, 0, 1, 0, 0, 0, 0, 0, 0, 0, 1, 0, 0, 0, 0,\n",
              "       0, 0, 0, 0, 0, 0, 0, 0, 0, 0, 0, 0, 0, 0, 0, 0, 0, 0, 0, 1, 0, 0,\n",
              "       0, 0, 0, 0, 0, 0, 0, 0, 1, 0, 0, 1, 0, 0, 0, 0, 0, 0, 1, 1, 1, 0,\n",
              "       0, 0, 0, 0, 0, 0, 0, 0, 1, 0, 1, 0, 0, 0, 0, 0, 0, 0, 1, 0, 0, 0,\n",
              "       0, 0, 0, 0, 0, 0, 0, 0, 0, 1, 0, 0, 0, 1, 0, 0, 0, 0, 0, 0, 0, 0,\n",
              "       0, 0, 0, 1, 0, 0, 0, 0, 0, 0, 1, 0, 0, 0, 0, 0, 0, 0, 0, 0, 0, 0,\n",
              "       1, 1, 0, 0, 0, 1, 0, 0, 0, 1, 0, 0, 0, 0, 0, 0, 1, 0, 1, 0, 0, 0,\n",
              "       1, 0, 0, 1, 0, 0, 0, 0, 0, 0, 0, 0, 0, 0, 0, 0, 0, 0, 0, 0, 0, 0,\n",
              "       0, 0, 0, 0])"
            ]
          },
          "metadata": {},
          "execution_count": 32
        }
      ]
    },
    {
      "cell_type": "code",
      "metadata": {
        "id": "NwS4SpwpGnjr",
        "colab": {
          "base_uri": "https://localhost:8080/"
        },
        "outputId": "e939df59-2408-4296-f983-d4fad23f0543"
      },
      "source": [
        "y_teste"
      ],
      "execution_count": 33,
      "outputs": [
        {
          "output_type": "execute_result",
          "data": {
            "text/plain": [
              "array([0, 0, 0, 0, 0, 0, 0, 0, 0, 0, 0, 0, 0, 0, 0, 0, 0, 0, 0, 0, 0, 0,\n",
              "       0, 0, 0, 0, 0, 0, 0, 1, 0, 0, 0, 0, 0, 0, 1, 0, 0, 0, 0, 0, 0, 0,\n",
              "       0, 0, 0, 0, 1, 0, 0, 0, 0, 0, 1, 0, 0, 0, 0, 0, 0, 0, 0, 0, 0, 0,\n",
              "       0, 0, 0, 0, 0, 1, 0, 0, 0, 0, 0, 0, 0, 0, 0, 1, 0, 0, 0, 0, 0, 0,\n",
              "       0, 0, 0, 0, 0, 0, 0, 0, 1, 0, 0, 0, 0, 1, 0, 0, 0, 0, 0, 0, 0, 0,\n",
              "       0, 0, 0, 1, 0, 0, 0, 0, 0, 0, 0, 0, 1, 0, 0, 0, 0, 0, 1, 0, 0, 1,\n",
              "       0, 0, 0, 0, 0, 1, 0, 0, 1, 0, 0, 0, 1, 0, 0, 0, 0, 0, 0, 0, 0, 0,\n",
              "       0, 0, 0, 1, 0, 0, 0, 0, 1, 0, 1, 0, 0, 0, 0, 0, 0, 0, 0, 0, 0, 1,\n",
              "       0, 0, 1, 1, 0, 0, 0, 0, 1, 1, 1, 0, 0, 0, 0, 0, 0, 0, 0, 0, 1, 0,\n",
              "       1, 0, 0, 0, 0, 0, 0, 0, 0, 0, 0, 0, 0, 0, 0, 0, 0, 0, 0, 0, 0, 0,\n",
              "       0, 0, 0, 0, 0, 0, 0, 0, 0, 0, 0, 1, 0, 0, 0, 0, 0, 1, 0, 0, 0, 1,\n",
              "       0, 0, 1, 0, 0, 0, 0, 0, 0, 0, 0, 0, 0, 0, 0, 0, 0, 0, 0, 1, 0, 0,\n",
              "       0, 0, 0, 0, 0, 0, 0, 0, 1, 0, 0, 1, 0, 0, 0, 0, 0, 0, 1, 1, 1, 0,\n",
              "       0, 0, 0, 0, 0, 0, 0, 1, 1, 0, 1, 0, 0, 1, 1, 0, 0, 0, 1, 0, 0, 0,\n",
              "       0, 1, 0, 0, 0, 0, 0, 0, 0, 1, 0, 0, 1, 1, 0, 0, 0, 0, 0, 0, 0, 0,\n",
              "       0, 0, 0, 1, 0, 0, 1, 0, 0, 0, 0, 0, 0, 0, 0, 0, 0, 0, 0, 0, 0, 1,\n",
              "       1, 0, 0, 0, 0, 1, 0, 0, 0, 0, 0, 0, 0, 0, 0, 0, 1, 1, 1, 0, 0, 0,\n",
              "       1, 0, 0, 1, 0, 0, 0, 0, 0, 0, 0, 0, 0, 0, 0, 0, 0, 0, 0, 1, 0, 0,\n",
              "       0, 0, 0, 0])"
            ]
          },
          "metadata": {},
          "execution_count": 33
        }
      ]
    },
    {
      "cell_type": "code",
      "metadata": {
        "id": "Nmih2IpwGz7_"
      },
      "source": [
        "from sklearn.metrics import accuracy_score"
      ],
      "execution_count": 34,
      "outputs": []
    },
    {
      "cell_type": "code",
      "metadata": {
        "id": "ZH1bUOzOG5cY",
        "colab": {
          "base_uri": "https://localhost:8080/"
        },
        "outputId": "9784346d-3c0c-42f3-ba5c-fa6996216ca4"
      },
      "source": [
        "accuracy_score(y_teste,previsoes) #Corrigido 04/10/2021"
      ],
      "execution_count": 35,
      "outputs": [
        {
          "output_type": "execute_result",
          "data": {
            "text/plain": [
              "0.92"
            ]
          },
          "metadata": {},
          "execution_count": 35
        }
      ]
    },
    {
      "cell_type": "code",
      "metadata": {
        "id": "9Tf5GoSiHAhf"
      },
      "source": [
        "from sklearn.metrics import confusion_matrix"
      ],
      "execution_count": 36,
      "outputs": []
    },
    {
      "cell_type": "code",
      "metadata": {
        "id": "hPLRi2RRHE-S",
        "colab": {
          "base_uri": "https://localhost:8080/"
        },
        "outputId": "4508646d-b6eb-4357-8c15-011725e1210d"
      },
      "source": [
        "cm = confusion_matrix(y_teste,previsoes) #Corrigido 04/10/2021\n",
        "cm"
      ],
      "execution_count": 37,
      "outputs": [
        {
          "output_type": "execute_result",
          "data": {
            "text/plain": [
              "array([[334,   9],\n",
              "       [ 23,  34]])"
            ]
          },
          "metadata": {},
          "execution_count": 37
        }
      ]
    },
    {
      "cell_type": "code",
      "metadata": {
        "id": "QcrAEZDGHOxF",
        "colab": {
          "base_uri": "https://localhost:8080/",
          "height": 265
        },
        "outputId": "f0076e5b-2b44-40ec-c275-5925365c67ff"
      },
      "source": [
        "sns.heatmap(cm, annot=True);"
      ],
      "execution_count": 38,
      "outputs": [
        {
          "output_type": "display_data",
          "data": {
            "text/plain": [
              "<Figure size 432x288 with 2 Axes>"
            ],
            "image/png": "[encoded data removed]"
          },
          "metadata": {
            "needs_background": "light"
          }
        }
      ]
    },
    {
      "cell_type": "code",
      "metadata": {
        "id": "nFmFz9--HsW4",
        "colab": {
          "base_uri": "https://localhost:8080/"
        },
        "outputId": "a0cf60ac-445d-4307-ece3-f47a4cf768af"
      },
      "source": [
        "(336 + 32) / (336 + 25 + 7 + 32)"
      ],
      "execution_count": 39,
      "outputs": [
        {
          "output_type": "execute_result",
          "data": {
            "text/plain": [
              "0.92"
            ]
          },
          "metadata": {},
          "execution_count": 39
        }
      ]
    },
    {
      "cell_type": "code",
      "metadata": {
        "id": "Hv9hY03JH2tm",
        "colab": {
          "base_uri": "https://localhost:8080/"
        },
        "outputId": "4468db25-a0da-480a-9855-2aa605e97a92"
      },
      "source": [
        "# Percentual de acerto para pessoas que pagam o empréstimo\n",
        "336 / (336 + 25)"
      ],
      "execution_count": 40,
      "outputs": [
        {
          "output_type": "execute_result",
          "data": {
            "text/plain": [
              "0.9307479224376731"
            ]
          },
          "metadata": {},
          "execution_count": 40
        }
      ]
    },
    {
      "cell_type": "code",
      "metadata": {
        "id": "NH0YdbUuIDpK",
        "colab": {
          "base_uri": "https://localhost:8080/"
        },
        "outputId": "4bba7616-eaaf-4888-f55d-a8f7051f9e33"
      },
      "source": [
        "# Percentual de acerto para pessoas que não pagam o empréstimo\n",
        "32 / (32 + 7)"
      ],
      "execution_count": 41,
      "outputs": [
        {
          "output_type": "execute_result",
          "data": {
            "text/plain": [
              "0.8205128205128205"
            ]
          },
          "metadata": {},
          "execution_count": 41
        }
      ]
    },
    {
      "cell_type": "code",
      "metadata": {
        "id": "sxbMp1DMIb58",
        "colab": {
          "base_uri": "https://localhost:8080/"
        },
        "outputId": "11a26915-bcc5-41ae-f2a9-530098f4c54e"
      },
      "source": [
        "# Perdas: 5.000\n",
        "# Clientes não pagadores: 1.000\n",
        "1000 * 18 / 100"
      ],
      "execution_count": 42,
      "outputs": [
        {
          "output_type": "execute_result",
          "data": {
            "text/plain": [
              "180.0"
            ]
          },
          "metadata": {},
          "execution_count": 42
        }
      ]
    },
    {
      "cell_type": "code",
      "metadata": {
        "id": "afpZR2gnJG_g",
        "colab": {
          "base_uri": "https://localhost:8080/"
        },
        "outputId": "859a46f0-018b-47e9-a380-bb3e7fc645ec"
      },
      "source": [
        "180 * 5000"
      ],
      "execution_count": 43,
      "outputs": [
        {
          "output_type": "execute_result",
          "data": {
            "text/plain": [
              "900000"
            ]
          },
          "metadata": {},
          "execution_count": 43
        }
      ]
    },
    {
      "cell_type": "markdown",
      "metadata": {
        "id": "O3LdjHSOJSb0"
      },
      "source": [
        "## Subamostragem (undersampling) - Tomek links\n",
        "\n",
        "- https://imbalanced-learn.readthedocs.io/en/stable/user_guide.html"
      ]
    },
    {
      "cell_type": "code",
      "metadata": {
        "id": "7euO-JSQLyvl"
      },
      "source": [
        "from imblearn.under_sampling import TomekLinks"
      ],
      "execution_count": 44,
      "outputs": []
    },
    {
      "cell_type": "code",
      "metadata": {
        "id": "6nzI6h5GMBto"
      },
      "source": [
        "tl = TomekLinks(sampling_strategy='majority')\n",
        "X_under, y_under = tl.fit_resample(X, y) #Atualizado 20/05/2022"
      ],
      "execution_count": 45,
      "outputs": []
    },
    {
      "cell_type": "code",
      "metadata": {
        "id": "gv6iPNX5Mren",
        "colab": {
          "base_uri": "https://localhost:8080/"
        },
        "outputId": "220b6475-e631-4ea0-e8bf-b36b91801454"
      },
      "source": [
        "X_under.shape, y_under.shape"
      ],
      "execution_count": 46,
      "outputs": [
        {
          "output_type": "execute_result",
          "data": {
            "text/plain": [
              "((1897, 3), (1897,))"
            ]
          },
          "metadata": {},
          "execution_count": 46
        }
      ]
    },
    {
      "cell_type": "code",
      "metadata": {
        "id": "j3tJD1SkNAzW",
        "colab": {
          "base_uri": "https://localhost:8080/"
        },
        "outputId": "6da90eae-6d41-4043-9574-23d994f9af76"
      },
      "source": [
        "np.unique(y, return_counts=True)"
      ],
      "execution_count": 47,
      "outputs": [
        {
          "output_type": "execute_result",
          "data": {
            "text/plain": [
              "(array([0, 1]), array([1714,  283]))"
            ]
          },
          "metadata": {},
          "execution_count": 47
        }
      ]
    },
    {
      "cell_type": "code",
      "metadata": {
        "id": "HKn8t_YxNFo6",
        "colab": {
          "base_uri": "https://localhost:8080/"
        },
        "outputId": "19a66fed-0686-45eb-994b-e104376473bd"
      },
      "source": [
        "np.unique(y_under, return_counts=True)"
      ],
      "execution_count": 48,
      "outputs": [
        {
          "output_type": "execute_result",
          "data": {
            "text/plain": [
              "(array([0, 1]), array([1614,  283]))"
            ]
          },
          "metadata": {},
          "execution_count": 48
        }
      ]
    },
    {
      "cell_type": "code",
      "metadata": {
        "id": "WTg10B05NOAC",
        "colab": {
          "base_uri": "https://localhost:8080/"
        },
        "outputId": "6c0f68d5-e127-409a-f791-e6ba52ad7595"
      },
      "source": [
        "X_treinamento_u, X_teste_u, y_treinamento_u, y_teste_u = train_test_split(X_under,\n",
        "                                                                          y_under,\n",
        "                                                                          test_size=0.2,\n",
        "                                                                          stratify=y_under)\n",
        "X_treinamento_u.shape, X_teste_u.shape"
      ],
      "execution_count": 49,
      "outputs": [
        {
          "output_type": "execute_result",
          "data": {
            "text/plain": [
              "((1517, 3), (380, 3))"
            ]
          },
          "metadata": {},
          "execution_count": 49
        }
      ]
    },
    {
      "cell_type": "code",
      "metadata": {
        "id": "4L5t35-fOlE2",
        "colab": {
          "base_uri": "https://localhost:8080/"
        },
        "outputId": "27eca48c-f768-4258-f0b1-06e7c6613a41"
      },
      "source": [
        "modelo_u = GaussianNB()\n",
        "modelo_u.fit(X_treinamento_u, y_treinamento_u)\n",
        "previsoes_u = modelo_u.predict(X_teste_u)\n",
        "accuracy_score(y_teste_u,previsoes_u ) #Corrigido 04/10/2021"
      ],
      "execution_count": 50,
      "outputs": [
        {
          "output_type": "execute_result",
          "data": {
            "text/plain": [
              "0.9210526315789473"
            ]
          },
          "metadata": {},
          "execution_count": 50
        }
      ]
    },
    {
      "cell_type": "code",
      "metadata": {
        "id": "h-XLF8L9Ozy_",
        "colab": {
          "base_uri": "https://localhost:8080/"
        },
        "outputId": "4aee3f55-5b3e-44bc-e851-c767b67ace57"
      },
      "source": [
        "cm_u = confusion_matrix(y_teste_u, previsoes_u) #Corrigido 04/10/2021\n",
        "cm_u"
      ],
      "execution_count": 51,
      "outputs": [
        {
          "output_type": "execute_result",
          "data": {
            "text/plain": [
              "array([[318,   5],\n",
              "       [ 25,  32]])"
            ]
          },
          "metadata": {},
          "execution_count": 51
        }
      ]
    },
    {
      "cell_type": "code",
      "metadata": {
        "id": "6iLQLurpO5Aj",
        "colab": {
          "base_uri": "https://localhost:8080/"
        },
        "outputId": "4c0e70b8-b850-4f3e-887b-2bb3b8accaff"
      },
      "source": [
        "315 / (315 + 26)"
      ],
      "execution_count": 52,
      "outputs": [
        {
          "output_type": "execute_result",
          "data": {
            "text/plain": [
              "0.9237536656891495"
            ]
          },
          "metadata": {},
          "execution_count": 52
        }
      ]
    },
    {
      "cell_type": "code",
      "metadata": {
        "id": "EMCdEOACO_BI",
        "colab": {
          "base_uri": "https://localhost:8080/"
        },
        "outputId": "f019fb73-ee8a-4210-de2f-e496ebbdeb66"
      },
      "source": [
        "31 / (31 + 8)"
      ],
      "execution_count": 53,
      "outputs": [
        {
          "output_type": "execute_result",
          "data": {
            "text/plain": [
              "0.7948717948717948"
            ]
          },
          "metadata": {},
          "execution_count": 53
        }
      ]
    },
    {
      "cell_type": "markdown",
      "metadata": {
        "id": "F3mmQGLHQvLr"
      },
      "source": [
        "## Sobreamostragem (oversampling) - SMOTE"
      ]
    },
    {
      "cell_type": "code",
      "metadata": {
        "id": "afZorNsRP2ZO"
      },
      "source": [
        "from imblearn.over_sampling import SMOTE"
      ],
      "execution_count": 54,
      "outputs": []
    },
    {
      "cell_type": "code",
      "metadata": {
        "id": "-dqqqfx4P8BS"
      },
      "source": [
        "smote = SMOTE(sampling_strategy='minority')\n",
        "X_over, y_over = smote.fit_resample(X, y) #Atualizado 20/05/2022"
      ],
      "execution_count": 55,
      "outputs": []
    },
    {
      "cell_type": "code",
      "metadata": {
        "id": "ARlvsdYbQN50",
        "colab": {
          "base_uri": "https://localhost:8080/"
        },
        "outputId": "185a83d2-8b6f-4ff9-a17d-e3e5835c0704"
      },
      "source": [
        "X_over.shape, y_over.shape"
      ],
      "execution_count": 56,
      "outputs": [
        {
          "output_type": "execute_result",
          "data": {
            "text/plain": [
              "((3428, 3), (3428,))"
            ]
          },
          "metadata": {},
          "execution_count": 56
        }
      ]
    },
    {
      "cell_type": "code",
      "metadata": {
        "id": "yDjesKDwQUJQ",
        "colab": {
          "base_uri": "https://localhost:8080/"
        },
        "outputId": "97ed5688-e720-4da5-88d2-34315c7483f6"
      },
      "source": [
        "np.unique(y, return_counts=True)"
      ],
      "execution_count": 57,
      "outputs": [
        {
          "output_type": "execute_result",
          "data": {
            "text/plain": [
              "(array([0, 1]), array([1714,  283]))"
            ]
          },
          "metadata": {},
          "execution_count": 57
        }
      ]
    },
    {
      "cell_type": "code",
      "metadata": {
        "id": "StbCHeZSQYd3",
        "colab": {
          "base_uri": "https://localhost:8080/"
        },
        "outputId": "1ca55093-000d-46da-f291-030c1c527c08"
      },
      "source": [
        "np.unique(y_over, return_counts=True)"
      ],
      "execution_count": 58,
      "outputs": [
        {
          "output_type": "execute_result",
          "data": {
            "text/plain": [
              "(array([0, 1]), array([1714, 1714]))"
            ]
          },
          "metadata": {},
          "execution_count": 58
        }
      ]
    },
    {
      "cell_type": "code",
      "metadata": {
        "id": "6CQ2NDEUQiZG"
      },
      "source": [
        "X_treinamento_o, X_teste_o, y_treinamento_o, y_teste_o = train_test_split(X_over, y_over,\n",
        "                                                                          test_size = 0.2,\n",
        "                                                                          stratify=y_over)"
      ],
      "execution_count": 59,
      "outputs": []
    },
    {
      "cell_type": "code",
      "metadata": {
        "id": "xkvfX533QvQ8",
        "colab": {
          "base_uri": "https://localhost:8080/"
        },
        "outputId": "ca2d52dd-f228-4f35-aa52-f4cc8c5cafe5"
      },
      "source": [
        "X_treinamento_o.shape, X_teste_o.shape"
      ],
      "execution_count": 60,
      "outputs": [
        {
          "output_type": "execute_result",
          "data": {
            "text/plain": [
              "((2742, 3), (686, 3))"
            ]
          },
          "metadata": {},
          "execution_count": 60
        }
      ]
    },
    {
      "cell_type": "code",
      "metadata": {
        "id": "2NGU_s0rQ04G",
        "colab": {
          "base_uri": "https://localhost:8080/"
        },
        "outputId": "edecf373-091b-48e6-ce11-03894fc0acba"
      },
      "source": [
        "modelo_o = GaussianNB()\n",
        "modelo_o.fit(X_treinamento_o, y_treinamento_o)\n",
        "previsoes_o = modelo_o.predict(X_teste_o)\n",
        "accuracy_score(y_teste_o, previsoes_o) #Corrigido 04/10/2021"
      ],
      "execution_count": 61,
      "outputs": [
        {
          "output_type": "execute_result",
          "data": {
            "text/plain": [
              "0.9125364431486881"
            ]
          },
          "metadata": {},
          "execution_count": 61
        }
      ]
    },
    {
      "cell_type": "code",
      "metadata": {
        "id": "iUPJQOgtREhn",
        "colab": {
          "base_uri": "https://localhost:8080/"
        },
        "outputId": "e298ab53-5dfc-4d20-8293-6ae88ea6331e"
      },
      "source": [
        "cm_o = confusion_matrix(y_teste_o, previsoes_o) #Corrigido 04/10/2021\n",
        "cm_o"
      ],
      "execution_count": 62,
      "outputs": [
        {
          "output_type": "execute_result",
          "data": {
            "text/plain": [
              "array([[295,  48],\n",
              "       [ 12, 331]])"
            ]
          },
          "metadata": {},
          "execution_count": 62
        }
      ]
    },
    {
      "cell_type": "code",
      "metadata": {
        "id": "mqBS-EGnRJ0h",
        "colab": {
          "base_uri": "https://localhost:8080/"
        },
        "outputId": "694e36f5-71f3-4e7e-897c-fc160c6d49ef"
      },
      "source": [
        "305 / (305 + 19)"
      ],
      "execution_count": 63,
      "outputs": [
        {
          "output_type": "execute_result",
          "data": {
            "text/plain": [
              "0.941358024691358"
            ]
          },
          "metadata": {},
          "execution_count": 63
        }
      ]
    },
    {
      "cell_type": "code",
      "metadata": {
        "id": "xRKD3o8mRRW1",
        "colab": {
          "base_uri": "https://localhost:8080/"
        },
        "outputId": "cbeefbb0-2b7f-4952-e590-17ed07bb5097"
      },
      "source": [
        "324 / (324 + 38)"
      ],
      "execution_count": 64,
      "outputs": [
        {
          "output_type": "execute_result",
          "data": {
            "text/plain": [
              "0.8950276243093923"
            ]
          },
          "metadata": {},
          "execution_count": 64
        }
      ]
    },
    {
      "cell_type": "code",
      "metadata": {
        "id": "W6WWS1IDRglA",
        "colab": {
          "base_uri": "https://localhost:8080/"
        },
        "outputId": "e9db1735-591d-4b41-ed64-4742d72446c0"
      },
      "source": [
        "# Perdas: 5.000\n",
        "# Cliente não pagadores: 1.000\n",
        "1000 * 11 / 100"
      ],
      "execution_count": 65,
      "outputs": [
        {
          "output_type": "execute_result",
          "data": {
            "text/plain": [
              "110.0"
            ]
          },
          "metadata": {},
          "execution_count": 65
        }
      ]
    },
    {
      "cell_type": "code",
      "metadata": {
        "id": "Tx6_-Y_WRsJ0",
        "colab": {
          "base_uri": "https://localhost:8080/"
        },
        "outputId": "7173e58e-470c-4372-bd9e-809263bfb006"
      },
      "source": [
        "110 * 5000"
      ],
      "execution_count": 66,
      "outputs": [
        {
          "output_type": "execute_result",
          "data": {
            "text/plain": [
              "550000"
            ]
          },
          "metadata": {},
          "execution_count": 66
        }
      ]
    },
    {
      "cell_type": "code",
      "metadata": {
        "id": "AC0uoEjmRvPV",
        "colab": {
          "base_uri": "https://localhost:8080/"
        },
        "outputId": "46bd786b-0926-4e4a-81c0-455da12a250f"
      },
      "source": [
        "900000 - 550000"
      ],
      "execution_count": 67,
      "outputs": [
        {
          "output_type": "execute_result",
          "data": {
            "text/plain": [
              "350000"
            ]
          },
          "metadata": {},
          "execution_count": 67
        }
      ]
    }
  ]
}