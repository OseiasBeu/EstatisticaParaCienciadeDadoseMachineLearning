{
  "nbformat": 4,
  "nbformat_minor": 0,
  "metadata": {
    "colab": {
      "provenance": [],
      "include_colab_link": true
    },
    "kernelspec": {
      "name": "python3",
      "display_name": "Python 3"
    }
  },
  "cells": [
    {
      "cell_type": "markdown",
      "metadata": {
        "id": "view-in-github",
        "colab_type": "text"
      },
      "source": [
        "<a href=\"https://colab.research.google.com/github/OseiasBeu/EstatisticaParaCienciadeDadoseMachineLearning/blob/main/Populacao_e_Amostra/Dados_desbalanceados_Exerc%C3%ADcio.ipynb\" target=\"_parent\"><img src=\"https://colab.research.google.com/assets/colab-badge.svg\" alt=\"Open In Colab\"/></a>"
      ]
    },
    {
      "cell_type": "markdown",
      "metadata": {
        "id": "bnzPmx8P52UF"
      },
      "source": [
        "# Classificação com dados desbalanceados"
      ]
    },
    {
      "cell_type": "markdown",
      "metadata": {
        "id": "DTxzWPl_Vel4"
      },
      "source": [
        "## Carregamento da base de dados"
      ]
    },
    {
      "cell_type": "code",
      "metadata": {
        "id": "Sz394_Ya5tsR"
      },
      "source": [
        "import pandas as pd\n",
        "import random\n",
        "import numpy as np"
      ],
      "execution_count": 1,
      "outputs": []
    },
    {
      "cell_type": "code",
      "metadata": {
        "id": "g6ufdhZ-57UD"
      },
      "source": [
        "dataset = pd.read_csv('https://raw.githubusercontent.com/OseiasBeu/EstatisticaParaCienciadeDadoseMachineLearning/main/Bases%20de%20dados/csv_result-ebay_confianca_completo.csv')"
      ],
      "execution_count": 2,
      "outputs": []
    },
    {
      "cell_type": "code",
      "metadata": {
        "id": "jemytT0Z6KIm",
        "colab": {
          "base_uri": "https://localhost:8080/"
        },
        "outputId": "228dcf0d-e6ef-47f9-94f9-f12f97cebecf"
      },
      "source": [
        "dataset.shape"
      ],
      "execution_count": 3,
      "outputs": [
        {
          "output_type": "execute_result",
          "data": {
            "text/plain": [
              "(5806, 75)"
            ]
          },
          "metadata": {},
          "execution_count": 3
        }
      ]
    },
    {
      "cell_type": "code",
      "metadata": {
        "id": "WMaeoEfa6Ppq",
        "colab": {
          "base_uri": "https://localhost:8080/",
          "height": 300
        },
        "outputId": "adbc9ccc-a291-420e-fe90-5eed51f5456d"
      },
      "source": [
        "dataset.head()"
      ],
      "execution_count": 4,
      "outputs": [
        {
          "output_type": "execute_result",
          "data": {
            "text/plain": [
              "   feedbacks  reviews blacklist  mextraversion  cextraversion  sextraversion  \\\n",
              "2          0       49         N       4.181642            0.6              1   \n",
              "3          0       56         N       4.007042            0.6              0   \n",
              "4          0       50         N       4.538230            0.7              1   \n",
              "5         72        0         N       4.692854            0.3              0   \n",
              "6         76        0         N       4.966753            0.3              0   \n",
              "\n",
              "   mneuroticism  cneuroticism  sneuroticism  mconscientiousness  ...  \\\n",
              "2      2.777591           0.6             0            4.085460  ...   \n",
              "3      2.698650           0.6             0            4.187338  ...   \n",
              "4      2.298492           0.5             1            5.085833  ...   \n",
              "5      2.987231           0.5             0            4.831320  ...   \n",
              "6      3.048730           0.5             0            4.725294  ...   \n",
              "\n",
              "   need_practicaly  need_selfexpression  need_stability  need_structure  \\\n",
              "2         0.696359             0.698786        0.756963        0.660119   \n",
              "3         0.715300             0.664572        0.728806        0.660740   \n",
              "4         0.720150             0.694678        0.669652        0.627962   \n",
              "5         0.739793             0.637027        0.697221        0.638587   \n",
              "6         0.718530             0.616852        0.692761        0.646695   \n",
              "\n",
              "   value_conservation  value_openess  value_hedonism  value_selfenhancement  \\\n",
              "2            0.619416       0.746372        0.640073               0.598037   \n",
              "3            0.588969       0.735915        0.644465               0.603042   \n",
              "4            0.553523       0.766618        0.655470               0.645042   \n",
              "5            0.675289       0.752234        0.679661               0.674438   \n",
              "6            0.677245       0.699785        0.648607               0.616075   \n",
              "\n",
              "   value_selftranscendence  reputation  \n",
              "2                 0.828716         Bom  \n",
              "3                 0.809379         Bom  \n",
              "4                 0.826039         Bom  \n",
              "5                 0.813391         Bom  \n",
              "6                 0.816841         Bom  \n",
              "\n",
              "[5 rows x 75 columns]"
            ],
            "text/html": [
              "\n",
              "  <div id=\"df-123b501a-b836-482e-8c54-376e6137f7e4\">\n",
              "    <div class=\"colab-df-container\">\n",
              "      <div>\n",
              "<style scoped>\n",
              "    .dataframe tbody tr th:only-of-type {\n",
              "        vertical-align: middle;\n",
              "    }\n",
              "\n",
              "    .dataframe tbody tr th {\n",
              "        vertical-align: top;\n",
              "    }\n",
              "\n",
              "    .dataframe thead th {\n",
              "        text-align: right;\n",
              "    }\n",
              "</style>\n",
              "<table border=\"1\" class=\"dataframe\">\n",
              "  <thead>\n",
              "    <tr style=\"text-align: right;\">\n",
              "      <th></th>\n",
              "      <th>feedbacks</th>\n",
              "      <th>reviews</th>\n",
              "      <th>blacklist</th>\n",
              "      <th>mextraversion</th>\n",
              "      <th>cextraversion</th>\n",
              "      <th>sextraversion</th>\n",
              "      <th>mneuroticism</th>\n",
              "      <th>cneuroticism</th>\n",
              "      <th>sneuroticism</th>\n",
              "      <th>mconscientiousness</th>\n",
              "      <th>...</th>\n",
              "      <th>need_practicaly</th>\n",
              "      <th>need_selfexpression</th>\n",
              "      <th>need_stability</th>\n",
              "      <th>need_structure</th>\n",
              "      <th>value_conservation</th>\n",
              "      <th>value_openess</th>\n",
              "      <th>value_hedonism</th>\n",
              "      <th>value_selfenhancement</th>\n",
              "      <th>value_selftranscendence</th>\n",
              "      <th>reputation</th>\n",
              "    </tr>\n",
              "  </thead>\n",
              "  <tbody>\n",
              "    <tr>\n",
              "      <th>2</th>\n",
              "      <td>0</td>\n",
              "      <td>49</td>\n",
              "      <td>N</td>\n",
              "      <td>4.181642</td>\n",
              "      <td>0.6</td>\n",
              "      <td>1</td>\n",
              "      <td>2.777591</td>\n",
              "      <td>0.6</td>\n",
              "      <td>0</td>\n",
              "      <td>4.085460</td>\n",
              "      <td>...</td>\n",
              "      <td>0.696359</td>\n",
              "      <td>0.698786</td>\n",
              "      <td>0.756963</td>\n",
              "      <td>0.660119</td>\n",
              "      <td>0.619416</td>\n",
              "      <td>0.746372</td>\n",
              "      <td>0.640073</td>\n",
              "      <td>0.598037</td>\n",
              "      <td>0.828716</td>\n",
              "      <td>Bom</td>\n",
              "    </tr>\n",
              "    <tr>\n",
              "      <th>3</th>\n",
              "      <td>0</td>\n",
              "      <td>56</td>\n",
              "      <td>N</td>\n",
              "      <td>4.007042</td>\n",
              "      <td>0.6</td>\n",
              "      <td>0</td>\n",
              "      <td>2.698650</td>\n",
              "      <td>0.6</td>\n",
              "      <td>0</td>\n",
              "      <td>4.187338</td>\n",
              "      <td>...</td>\n",
              "      <td>0.715300</td>\n",
              "      <td>0.664572</td>\n",
              "      <td>0.728806</td>\n",
              "      <td>0.660740</td>\n",
              "      <td>0.588969</td>\n",
              "      <td>0.735915</td>\n",
              "      <td>0.644465</td>\n",
              "      <td>0.603042</td>\n",
              "      <td>0.809379</td>\n",
              "      <td>Bom</td>\n",
              "    </tr>\n",
              "    <tr>\n",
              "      <th>4</th>\n",
              "      <td>0</td>\n",
              "      <td>50</td>\n",
              "      <td>N</td>\n",
              "      <td>4.538230</td>\n",
              "      <td>0.7</td>\n",
              "      <td>1</td>\n",
              "      <td>2.298492</td>\n",
              "      <td>0.5</td>\n",
              "      <td>1</td>\n",
              "      <td>5.085833</td>\n",
              "      <td>...</td>\n",
              "      <td>0.720150</td>\n",
              "      <td>0.694678</td>\n",
              "      <td>0.669652</td>\n",
              "      <td>0.627962</td>\n",
              "      <td>0.553523</td>\n",
              "      <td>0.766618</td>\n",
              "      <td>0.655470</td>\n",
              "      <td>0.645042</td>\n",
              "      <td>0.826039</td>\n",
              "      <td>Bom</td>\n",
              "    </tr>\n",
              "    <tr>\n",
              "      <th>5</th>\n",
              "      <td>72</td>\n",
              "      <td>0</td>\n",
              "      <td>N</td>\n",
              "      <td>4.692854</td>\n",
              "      <td>0.3</td>\n",
              "      <td>0</td>\n",
              "      <td>2.987231</td>\n",
              "      <td>0.5</td>\n",
              "      <td>0</td>\n",
              "      <td>4.831320</td>\n",
              "      <td>...</td>\n",
              "      <td>0.739793</td>\n",
              "      <td>0.637027</td>\n",
              "      <td>0.697221</td>\n",
              "      <td>0.638587</td>\n",
              "      <td>0.675289</td>\n",
              "      <td>0.752234</td>\n",
              "      <td>0.679661</td>\n",
              "      <td>0.674438</td>\n",
              "      <td>0.813391</td>\n",
              "      <td>Bom</td>\n",
              "    </tr>\n",
              "    <tr>\n",
              "      <th>6</th>\n",
              "      <td>76</td>\n",
              "      <td>0</td>\n",
              "      <td>N</td>\n",
              "      <td>4.966753</td>\n",
              "      <td>0.3</td>\n",
              "      <td>0</td>\n",
              "      <td>3.048730</td>\n",
              "      <td>0.5</td>\n",
              "      <td>0</td>\n",
              "      <td>4.725294</td>\n",
              "      <td>...</td>\n",
              "      <td>0.718530</td>\n",
              "      <td>0.616852</td>\n",
              "      <td>0.692761</td>\n",
              "      <td>0.646695</td>\n",
              "      <td>0.677245</td>\n",
              "      <td>0.699785</td>\n",
              "      <td>0.648607</td>\n",
              "      <td>0.616075</td>\n",
              "      <td>0.816841</td>\n",
              "      <td>Bom</td>\n",
              "    </tr>\n",
              "  </tbody>\n",
              "</table>\n",
              "<p>5 rows × 75 columns</p>\n",
              "</div>\n",
              "      <button class=\"colab-df-convert\" onclick=\"convertToInteractive('df-123b501a-b836-482e-8c54-376e6137f7e4')\"\n",
              "              title=\"Convert this dataframe to an interactive table.\"\n",
              "              style=\"display:none;\">\n",
              "        \n",
              "  <svg xmlns=\"http://www.w3.org/2000/svg\" height=\"24px\"viewBox=\"0 0 24 24\"\n",
              "       width=\"24px\">\n",
              "    <path d=\"M0 0h24v24H0V0z\" fill=\"none\"/>\n",
              "    <path d=\"M18.56 5.44l.94 2.06.94-2.06 2.06-.94-2.06-.94-.94-2.06-.94 2.06-2.06.94zm-11 1L8.5 8.5l.94-2.06 2.06-.94-2.06-.94L8.5 2.5l-.94 2.06-2.06.94zm10 10l.94 2.06.94-2.06 2.06-.94-2.06-.94-.94-2.06-.94 2.06-2.06.94z\"/><path d=\"M17.41 7.96l-1.37-1.37c-.4-.4-.92-.59-1.43-.59-.52 0-1.04.2-1.43.59L10.3 9.45l-7.72 7.72c-.78.78-.78 2.05 0 2.83L4 21.41c.39.39.9.59 1.41.59.51 0 1.02-.2 1.41-.59l7.78-7.78 2.81-2.81c.8-.78.8-2.07 0-2.86zM5.41 20L4 18.59l7.72-7.72 1.47 1.35L5.41 20z\"/>\n",
              "  </svg>\n",
              "      </button>\n",
              "      \n",
              "  <style>\n",
              "    .colab-df-container {\n",
              "      display:flex;\n",
              "      flex-wrap:wrap;\n",
              "      gap: 12px;\n",
              "    }\n",
              "\n",
              "    .colab-df-convert {\n",
              "      background-color: #E8F0FE;\n",
              "      border: none;\n",
              "      border-radius: 50%;\n",
              "      cursor: pointer;\n",
              "      display: none;\n",
              "      fill: #1967D2;\n",
              "      height: 32px;\n",
              "      padding: 0 0 0 0;\n",
              "      width: 32px;\n",
              "    }\n",
              "\n",
              "    .colab-df-convert:hover {\n",
              "      background-color: #E2EBFA;\n",
              "      box-shadow: 0px 1px 2px rgba(60, 64, 67, 0.3), 0px 1px 3px 1px rgba(60, 64, 67, 0.15);\n",
              "      fill: #174EA6;\n",
              "    }\n",
              "\n",
              "    [theme=dark] .colab-df-convert {\n",
              "      background-color: #3B4455;\n",
              "      fill: #D2E3FC;\n",
              "    }\n",
              "\n",
              "    [theme=dark] .colab-df-convert:hover {\n",
              "      background-color: #434B5C;\n",
              "      box-shadow: 0px 1px 3px 1px rgba(0, 0, 0, 0.15);\n",
              "      filter: drop-shadow(0px 1px 2px rgba(0, 0, 0, 0.3));\n",
              "      fill: #FFFFFF;\n",
              "    }\n",
              "  </style>\n",
              "\n",
              "      <script>\n",
              "        const buttonEl =\n",
              "          document.querySelector('#df-123b501a-b836-482e-8c54-376e6137f7e4 button.colab-df-convert');\n",
              "        buttonEl.style.display =\n",
              "          google.colab.kernel.accessAllowed ? 'block' : 'none';\n",
              "\n",
              "        async function convertToInteractive(key) {\n",
              "          const element = document.querySelector('#df-123b501a-b836-482e-8c54-376e6137f7e4');\n",
              "          const dataTable =\n",
              "            await google.colab.kernel.invokeFunction('convertToInteractive',\n",
              "                                                     [key], {});\n",
              "          if (!dataTable) return;\n",
              "\n",
              "          const docLinkHtml = 'Like what you see? Visit the ' +\n",
              "            '<a target=\"_blank\" href=https://colab.research.google.com/notebooks/data_table.ipynb>data table notebook</a>'\n",
              "            + ' to learn more about interactive tables.';\n",
              "          element.innerHTML = '';\n",
              "          dataTable['output_type'] = 'display_data';\n",
              "          await google.colab.output.renderOutput(dataTable, element);\n",
              "          const docLink = document.createElement('div');\n",
              "          docLink.innerHTML = docLinkHtml;\n",
              "          element.appendChild(docLink);\n",
              "        }\n",
              "      </script>\n",
              "    </div>\n",
              "  </div>\n",
              "  "
            ]
          },
          "metadata": {},
          "execution_count": 4
        }
      ]
    },
    {
      "cell_type": "code",
      "metadata": {
        "id": "tCrta0ASa03K"
      },
      "source": [
        "dataset['blacklist'] = dataset['blacklist'] == 'S'"
      ],
      "execution_count": 5,
      "outputs": []
    },
    {
      "cell_type": "code",
      "metadata": {
        "id": "lxaSFv5BD0ib",
        "colab": {
          "base_uri": "https://localhost:8080/",
          "height": 334
        },
        "outputId": "a3c15f77-694a-464d-d572-1f829609f623"
      },
      "source": [
        "import seaborn as sns\n",
        "sns.countplot(dataset['reputation']);"
      ],
      "execution_count": 6,
      "outputs": [
        {
          "output_type": "stream",
          "name": "stderr",
          "text": [
            "/usr/local/lib/python3.7/dist-packages/seaborn/_decorators.py:43: FutureWarning: Pass the following variable as a keyword arg: x. From version 0.12, the only valid positional argument will be `data`, and passing other arguments without an explicit keyword will result in an error or misinterpretation.\n",
            "  FutureWarning\n"
          ]
        },
        {
          "output_type": "display_data",
          "data": {
            "text/plain": [
              "<Figure size 432x288 with 1 Axes>"
            ],
            "image/png": "[encoded data removed]"
          },
          "metadata": {
            "needs_background": "light"
          }
        }
      ]
    },
    {
      "cell_type": "code",
      "metadata": {
        "id": "rTINRhAHZul9",
        "colab": {
          "base_uri": "https://localhost:8080/"
        },
        "outputId": "b3b59e60-7ada-4703-ec2f-452b7eb7b767"
      },
      "source": [
        "len(dataset.columns)"
      ],
      "execution_count": 7,
      "outputs": [
        {
          "output_type": "execute_result",
          "data": {
            "text/plain": [
              "75"
            ]
          },
          "metadata": {},
          "execution_count": 7
        }
      ]
    },
    {
      "cell_type": "code",
      "metadata": {
        "id": "X1sKkVj2EDAu"
      },
      "source": [
        "X = dataset.iloc[:,0:74].values"
      ],
      "execution_count": 8,
      "outputs": []
    },
    {
      "cell_type": "code",
      "metadata": {
        "id": "uIR9bquDEI1o",
        "colab": {
          "base_uri": "https://localhost:8080/"
        },
        "outputId": "3662dcb6-d61c-466c-afdf-6fb43ff6c722"
      },
      "source": [
        "X.shape"
      ],
      "execution_count": 9,
      "outputs": [
        {
          "output_type": "execute_result",
          "data": {
            "text/plain": [
              "(5806, 74)"
            ]
          },
          "metadata": {},
          "execution_count": 9
        }
      ]
    },
    {
      "cell_type": "code",
      "metadata": {
        "id": "bn3a2VqhEPO_",
        "colab": {
          "base_uri": "https://localhost:8080/"
        },
        "outputId": "6f6113a1-4481-45b3-a9b4-912acc042e0d"
      },
      "source": [
        "X"
      ],
      "execution_count": 10,
      "outputs": [
        {
          "output_type": "execute_result",
          "data": {
            "text/plain": [
              "array([[0, 49, False, ..., 0.6400725899947721, 0.598037041554872,\n",
              "        0.828716381071851],\n",
              "       [0, 56, False, ..., 0.6444645861342442, 0.603041772443901,\n",
              "        0.8093789692710098],\n",
              "       [0, 50, False, ..., 0.6554697130298307, 0.6450420335022421,\n",
              "        0.82603890125472],\n",
              "       ...,\n",
              "       [78, 0, False, ..., 0.6974661634054785, 0.6739035045452172,\n",
              "        0.8320726536961992],\n",
              "       [95, 0, False, ..., 0.7706773179699052, 0.7100477615788761,\n",
              "        0.8199238314070743],\n",
              "       [53, 0, False, ..., 0.6239306346573744, 0.6331205213003834,\n",
              "        0.7920921058167003]], dtype=object)"
            ]
          },
          "metadata": {},
          "execution_count": 10
        }
      ]
    },
    {
      "cell_type": "code",
      "metadata": {
        "id": "7nBKxDitERSD"
      },
      "source": [
        "y = dataset.iloc[:,74].values"
      ],
      "execution_count": 11,
      "outputs": []
    },
    {
      "cell_type": "code",
      "metadata": {
        "id": "azgq3FvEEXtj",
        "colab": {
          "base_uri": "https://localhost:8080/"
        },
        "outputId": "730c6985-1b73-4108-8989-4279183ecb0a"
      },
      "source": [
        "y"
      ],
      "execution_count": 12,
      "outputs": [
        {
          "output_type": "execute_result",
          "data": {
            "text/plain": [
              "array(['Bom', 'Bom', 'Bom', ..., 'Bom', 'Ruim', 'Ruim'], dtype=object)"
            ]
          },
          "metadata": {},
          "execution_count": 12
        }
      ]
    },
    {
      "cell_type": "code",
      "metadata": {
        "id": "tAu1OPhreTkY",
        "colab": {
          "base_uri": "https://localhost:8080/"
        },
        "outputId": "37afd638-f99d-45a5-e737-0b78a484e6d9"
      },
      "source": [
        "np.unique(y, return_counts=True)"
      ],
      "execution_count": 13,
      "outputs": [
        {
          "output_type": "execute_result",
          "data": {
            "text/plain": [
              "(array(['Bom', 'Ruim'], dtype=object), array([4299, 1507]))"
            ]
          },
          "metadata": {},
          "execution_count": 13
        }
      ]
    },
    {
      "cell_type": "markdown",
      "metadata": {
        "id": "NFbb9dV1EaLT"
      },
      "source": [
        "## Base de treinamento e teste"
      ]
    },
    {
      "cell_type": "code",
      "metadata": {
        "id": "5g2E_l4pEb7N"
      },
      "source": [
        "from sklearn.model_selection import train_test_split"
      ],
      "execution_count": 14,
      "outputs": []
    },
    {
      "cell_type": "code",
      "metadata": {
        "id": "mKIvC6_BEj9N"
      },
      "source": [
        "X_treinamento, X_teste, y_treinamento, y_teste = train_test_split(X, y, test_size = 0.2, stratify = y)"
      ],
      "execution_count": 15,
      "outputs": []
    },
    {
      "cell_type": "code",
      "metadata": {
        "id": "_buNxoSfEswP",
        "colab": {
          "base_uri": "https://localhost:8080/"
        },
        "outputId": "288921b0-34a3-474e-aa0b-61c3996bb3f6"
      },
      "source": [
        "X_treinamento.shape, y_treinamento.shape"
      ],
      "execution_count": 16,
      "outputs": [
        {
          "output_type": "execute_result",
          "data": {
            "text/plain": [
              "((4644, 74), (4644,))"
            ]
          },
          "metadata": {},
          "execution_count": 16
        }
      ]
    },
    {
      "cell_type": "code",
      "metadata": {
        "id": "Frqgy4fUEwUI",
        "colab": {
          "base_uri": "https://localhost:8080/"
        },
        "outputId": "4af62514-84f0-4112-e69d-ed18f56f8ebb"
      },
      "source": [
        "X_teste.shape, y_teste.shape"
      ],
      "execution_count": 17,
      "outputs": [
        {
          "output_type": "execute_result",
          "data": {
            "text/plain": [
              "((1162, 74), (1162,))"
            ]
          },
          "metadata": {},
          "execution_count": 17
        }
      ]
    },
    {
      "cell_type": "markdown",
      "metadata": {
        "id": "G3CipcvgGJ-V"
      },
      "source": [
        "## Classificação com Random Forest"
      ]
    },
    {
      "cell_type": "code",
      "metadata": {
        "id": "nMdeH8sYGMPq"
      },
      "source": [
        "from sklearn.ensemble import RandomForestClassifier"
      ],
      "execution_count": 18,
      "outputs": []
    },
    {
      "cell_type": "code",
      "metadata": {
        "id": "tNRBCJ2eGQiu",
        "colab": {
          "base_uri": "https://localhost:8080/"
        },
        "outputId": "3d4193a9-9c7e-4255-fb28-f2320f5b2c89"
      },
      "source": [
        "modelo = RandomForestClassifier()\n",
        "modelo.fit(X_treinamento, y_treinamento)"
      ],
      "execution_count": 19,
      "outputs": [
        {
          "output_type": "execute_result",
          "data": {
            "text/plain": [
              "RandomForestClassifier()"
            ]
          },
          "metadata": {},
          "execution_count": 19
        }
      ]
    },
    {
      "cell_type": "code",
      "metadata": {
        "id": "xmFnRjRTHC3Z",
        "colab": {
          "base_uri": "https://localhost:8080/"
        },
        "outputId": "7ddd5311-6ef8-4149-b2f5-14e66499f44f"
      },
      "source": [
        "previsoes = modelo.predict(X_teste)\n",
        "from sklearn.metrics import accuracy_score\n",
        "accuracy_score(previsoes, y_teste)"
      ],
      "execution_count": 20,
      "outputs": [
        {
          "output_type": "execute_result",
          "data": {
            "text/plain": [
              "0.7452667814113597"
            ]
          },
          "metadata": {},
          "execution_count": 20
        }
      ]
    },
    {
      "cell_type": "markdown",
      "metadata": {
        "id": "O3LdjHSOJSb0"
      },
      "source": [
        "## Subamostragem (undersampling) - Tomek links\n",
        "\n",
        "- https://imbalanced-learn.readthedocs.io/en/stable/user_guide.html"
      ]
    },
    {
      "cell_type": "code",
      "metadata": {
        "id": "KnLF9D5mJU1C"
      },
      "source": [
        "from imblearn.under_sampling import TomekLinks"
      ],
      "execution_count": 21,
      "outputs": []
    },
    {
      "cell_type": "code",
      "metadata": {
        "id": "I1FHa4UOCEW8"
      },
      "source": [
        "tl = TomekLinks(sampling_strategy='majority')\n",
        "X_under, y_under = tl.fit_resample(X, y)"
      ],
      "execution_count": 22,
      "outputs": []
    },
    {
      "cell_type": "code",
      "metadata": {
        "id": "JEc3acRAJ9_l",
        "colab": {
          "base_uri": "https://localhost:8080/"
        },
        "outputId": "b507a55c-e767-4fc6-8507-7dbfed8a9cbf"
      },
      "source": [
        "X_under.shape, y_under.shape"
      ],
      "execution_count": 23,
      "outputs": [
        {
          "output_type": "execute_result",
          "data": {
            "text/plain": [
              "((5417, 74), (5417,))"
            ]
          },
          "metadata": {},
          "execution_count": 23
        }
      ]
    },
    {
      "cell_type": "code",
      "metadata": {
        "id": "hr8D-cbVN_rx",
        "colab": {
          "base_uri": "https://localhost:8080/"
        },
        "outputId": "05b6184c-3812-422a-a18c-8cee16f964e6"
      },
      "source": [
        "np.unique(y, return_counts=True)"
      ],
      "execution_count": 24,
      "outputs": [
        {
          "output_type": "execute_result",
          "data": {
            "text/plain": [
              "(array(['Bom', 'Ruim'], dtype=object), array([4299, 1507]))"
            ]
          },
          "metadata": {},
          "execution_count": 24
        }
      ]
    },
    {
      "cell_type": "code",
      "metadata": {
        "id": "xurz20fCMfkl",
        "colab": {
          "base_uri": "https://localhost:8080/"
        },
        "outputId": "3d9eb7a6-6bb1-4c1f-f325-e9b3317e2c99"
      },
      "source": [
        "np.unique(y_under, return_counts=True)"
      ],
      "execution_count": 25,
      "outputs": [
        {
          "output_type": "execute_result",
          "data": {
            "text/plain": [
              "(array(['Bom', 'Ruim'], dtype=object), array([3910, 1507]))"
            ]
          },
          "metadata": {},
          "execution_count": 25
        }
      ]
    },
    {
      "cell_type": "code",
      "metadata": {
        "id": "Yqt_zBN-OwQI",
        "colab": {
          "base_uri": "https://localhost:8080/"
        },
        "outputId": "08cc06ea-c516-4b99-f512-0f60270a4e0b"
      },
      "source": [
        "X_treinamento_u, X_teste_u, y_treinamento_u, y_teste_u = train_test_split(X_under, y_under, \n",
        "                                                                          test_size = 0.2, stratify = y_under)\n",
        "X_treinamento_u.shape, X_teste_u.shape"
      ],
      "execution_count": 26,
      "outputs": [
        {
          "output_type": "execute_result",
          "data": {
            "text/plain": [
              "((4333, 74), (1084, 74))"
            ]
          },
          "metadata": {},
          "execution_count": 26
        }
      ]
    },
    {
      "cell_type": "code",
      "metadata": {
        "id": "KZTTgR6mPGH6",
        "colab": {
          "base_uri": "https://localhost:8080/"
        },
        "outputId": "dcc848dd-709f-434f-960b-0b1590f35983"
      },
      "source": [
        "modelo_u = RandomForestClassifier()\n",
        "modelo_u.fit(X_treinamento_u, y_treinamento_u)\n",
        "previsoes_u = modelo_u.predict(X_teste_u)\n",
        "accuracy_score(previsoes_u, y_teste_u)"
      ],
      "execution_count": 27,
      "outputs": [
        {
          "output_type": "execute_result",
          "data": {
            "text/plain": [
              "0.7250922509225092"
            ]
          },
          "metadata": {},
          "execution_count": 27
        }
      ]
    },
    {
      "cell_type": "markdown",
      "metadata": {
        "id": "F3mmQGLHQvLr"
      },
      "source": [
        "## Sobreamostragem (oversampling) - SMOTE"
      ]
    },
    {
      "cell_type": "code",
      "metadata": {
        "id": "qv_ZkPjoQzZ1"
      },
      "source": [
        "from imblearn.over_sampling import SMOTE"
      ],
      "execution_count": 28,
      "outputs": []
    },
    {
      "cell_type": "code",
      "metadata": {
        "id": "_YjC-oQwQ5RA"
      },
      "source": [
        "smote = SMOTE(sampling_strategy='minority')\n",
        "X_over, y_over = smote.fit_resample(X, y)"
      ],
      "execution_count": 29,
      "outputs": []
    },
    {
      "cell_type": "code",
      "metadata": {
        "id": "RQ2KvD8dRE05",
        "colab": {
          "base_uri": "https://localhost:8080/"
        },
        "outputId": "d328ebba-1fbb-489f-e798-26f5593b69c5"
      },
      "source": [
        "X_over.shape, y_over.shape"
      ],
      "execution_count": 30,
      "outputs": [
        {
          "output_type": "execute_result",
          "data": {
            "text/plain": [
              "((8598, 74), (8598,))"
            ]
          },
          "metadata": {},
          "execution_count": 30
        }
      ]
    },
    {
      "cell_type": "code",
      "metadata": {
        "id": "jFJnhrWQROje",
        "colab": {
          "base_uri": "https://localhost:8080/"
        },
        "outputId": "47a5a21c-4e50-46ea-8a07-9e3e8af87cd6"
      },
      "source": [
        "np.unique(y, return_counts=True)"
      ],
      "execution_count": 31,
      "outputs": [
        {
          "output_type": "execute_result",
          "data": {
            "text/plain": [
              "(array(['Bom', 'Ruim'], dtype=object), array([4299, 1507]))"
            ]
          },
          "metadata": {},
          "execution_count": 31
        }
      ]
    },
    {
      "cell_type": "code",
      "metadata": {
        "id": "NWIwYgMiRPzD",
        "colab": {
          "base_uri": "https://localhost:8080/"
        },
        "outputId": "ee277feb-6b0c-4291-eba7-efbeba4a3f97"
      },
      "source": [
        "np.unique(y_over, return_counts=True)"
      ],
      "execution_count": 32,
      "outputs": [
        {
          "output_type": "execute_result",
          "data": {
            "text/plain": [
              "(array(['Bom', 'Ruim'], dtype=object), array([4299, 4299]))"
            ]
          },
          "metadata": {},
          "execution_count": 32
        }
      ]
    },
    {
      "cell_type": "code",
      "metadata": {
        "id": "YVsmqWEXRWCb",
        "colab": {
          "base_uri": "https://localhost:8080/"
        },
        "outputId": "6eec82de-6e57-4fdd-c80e-3f957e174123"
      },
      "source": [
        "X_treinamento_o, X_teste_o, y_treinamento_o, y_teste_o = train_test_split(X_over, y_over, \n",
        "                                                                          test_size = 0.2, stratify = y_over)\n",
        "X_treinamento_o.shape, X_teste_o.shape"
      ],
      "execution_count": 33,
      "outputs": [
        {
          "output_type": "execute_result",
          "data": {
            "text/plain": [
              "((6878, 74), (1720, 74))"
            ]
          },
          "metadata": {},
          "execution_count": 33
        }
      ]
    },
    {
      "cell_type": "code",
      "metadata": {
        "id": "IctXsrUyRmXy",
        "colab": {
          "base_uri": "https://localhost:8080/"
        },
        "outputId": "bc20b289-e2d8-4c2c-b2fc-d4ea2101063e"
      },
      "source": [
        "modelo_o = RandomForestClassifier()\n",
        "modelo_o.fit(X_treinamento_o, y_treinamento_o)\n",
        "previsoes_o = modelo_o.predict(X_teste_o)\n",
        "accuracy_score(previsoes_o, y_teste_o)"
      ],
      "execution_count": 34,
      "outputs": [
        {
          "output_type": "execute_result",
          "data": {
            "text/plain": [
              "0.8238372093023256"
            ]
          },
          "metadata": {},
          "execution_count": 34
        }
      ]
    }
  ]
}